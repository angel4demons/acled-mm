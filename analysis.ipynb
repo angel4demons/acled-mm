{
 "cells": [
  {
   "cell_type": "code",
   "execution_count": 1,
   "id": "cf8f22b7",
   "metadata": {},
   "outputs": [],
   "source": [
    "import pandas as pd"
   ]
  },
  {
   "cell_type": "code",
   "execution_count": 2,
   "id": "b486e1b3",
   "metadata": {
    "scrolled": true
   },
   "outputs": [
    {
     "data": {
      "text/html": [
       "<div>\n",
       "<style scoped>\n",
       "    .dataframe tbody tr th:only-of-type {\n",
       "        vertical-align: middle;\n",
       "    }\n",
       "\n",
       "    .dataframe tbody tr th {\n",
       "        vertical-align: top;\n",
       "    }\n",
       "\n",
       "    .dataframe thead th {\n",
       "        text-align: right;\n",
       "    }\n",
       "</style>\n",
       "<table border=\"1\" class=\"dataframe\">\n",
       "  <thead>\n",
       "    <tr style=\"text-align: right;\">\n",
       "      <th></th>\n",
       "      <th>data_id</th>\n",
       "      <th>iso</th>\n",
       "      <th>event_id_cnty</th>\n",
       "      <th>event_id_no_cnty</th>\n",
       "      <th>event_date</th>\n",
       "      <th>year</th>\n",
       "      <th>time_precision</th>\n",
       "      <th>event_type</th>\n",
       "      <th>sub_event_type</th>\n",
       "      <th>actor1</th>\n",
       "      <th>...</th>\n",
       "      <th>location</th>\n",
       "      <th>latitude</th>\n",
       "      <th>longitude</th>\n",
       "      <th>geo_precision</th>\n",
       "      <th>source</th>\n",
       "      <th>source_scale</th>\n",
       "      <th>notes</th>\n",
       "      <th>fatalities</th>\n",
       "      <th>timestamp</th>\n",
       "      <th>iso3</th>\n",
       "    </tr>\n",
       "  </thead>\n",
       "  <tbody>\n",
       "    <tr>\n",
       "      <th>0</th>\n",
       "      <td>9423604</td>\n",
       "      <td>104</td>\n",
       "      <td>MMR37198</td>\n",
       "      <td>37198</td>\n",
       "      <td>22-Jul-22</td>\n",
       "      <td>2022</td>\n",
       "      <td>1</td>\n",
       "      <td>Battles</td>\n",
       "      <td>Armed clash</td>\n",
       "      <td>PDF Hpruso</td>\n",
       "      <td>...</td>\n",
       "      <td>Hpruso</td>\n",
       "      <td>19.4164</td>\n",
       "      <td>97.1332</td>\n",
       "      <td>1</td>\n",
       "      <td>Ministry of Defense - NUG; Shwe Phee Myay News...</td>\n",
       "      <td>National</td>\n",
       "      <td>On 22 July 2022, in Hpruso town (Hpruso townsh...</td>\n",
       "      <td>4</td>\n",
       "      <td>1658863762</td>\n",
       "      <td>MMR</td>\n",
       "    </tr>\n",
       "    <tr>\n",
       "      <th>1</th>\n",
       "      <td>9423610</td>\n",
       "      <td>104</td>\n",
       "      <td>MMR37224</td>\n",
       "      <td>37224</td>\n",
       "      <td>22-Jul-22</td>\n",
       "      <td>2022</td>\n",
       "      <td>1</td>\n",
       "      <td>Explosions/Remote violence</td>\n",
       "      <td>Remote explosive/landmine/IED</td>\n",
       "      <td>GZP-Mandalay: Generation Z Power (Mandalay)</td>\n",
       "      <td>...</td>\n",
       "      <td>Patheingyi</td>\n",
       "      <td>22.0045</td>\n",
       "      <td>96.1634</td>\n",
       "      <td>2</td>\n",
       "      <td>Myanmar Pressphoto Agency; Eleven Media Group;...</td>\n",
       "      <td>National</td>\n",
       "      <td>On 22 July 2022, in Patheingyi township (Manda...</td>\n",
       "      <td>0</td>\n",
       "      <td>1658863762</td>\n",
       "      <td>MMR</td>\n",
       "    </tr>\n",
       "    <tr>\n",
       "      <th>2</th>\n",
       "      <td>9423615</td>\n",
       "      <td>104</td>\n",
       "      <td>MMR37231</td>\n",
       "      <td>37231</td>\n",
       "      <td>22-Jul-22</td>\n",
       "      <td>2022</td>\n",
       "      <td>1</td>\n",
       "      <td>Explosions/Remote violence</td>\n",
       "      <td>Grenade</td>\n",
       "      <td>Toxic Boys</td>\n",
       "      <td>...</td>\n",
       "      <td>Kyauktada</td>\n",
       "      <td>16.7743</td>\n",
       "      <td>96.1616</td>\n",
       "      <td>2</td>\n",
       "      <td>Khit Thit Media; Eleven Media Group</td>\n",
       "      <td>Subnational-National</td>\n",
       "      <td>On 22 July 2022, in Kyauktada township (Yangon...</td>\n",
       "      <td>0</td>\n",
       "      <td>1658863762</td>\n",
       "      <td>MMR</td>\n",
       "    </tr>\n",
       "    <tr>\n",
       "      <th>3</th>\n",
       "      <td>9423634</td>\n",
       "      <td>104</td>\n",
       "      <td>MMR37315</td>\n",
       "      <td>37315</td>\n",
       "      <td>22-Jul-22</td>\n",
       "      <td>2022</td>\n",
       "      <td>1</td>\n",
       "      <td>Battles</td>\n",
       "      <td>Armed clash</td>\n",
       "      <td>Zero Guerrilla Force</td>\n",
       "      <td>...</td>\n",
       "      <td>Kywei Pon</td>\n",
       "      <td>22.0656</td>\n",
       "      <td>95.6821</td>\n",
       "      <td>1</td>\n",
       "      <td>Kachin News Group; Irrawaddy; Ministry of Defe...</td>\n",
       "      <td>National</td>\n",
       "      <td>On 22 July 2022, in Kywei Pon village (Sagaing...</td>\n",
       "      <td>10</td>\n",
       "      <td>1658863762</td>\n",
       "      <td>MMR</td>\n",
       "    </tr>\n",
       "    <tr>\n",
       "      <th>4</th>\n",
       "      <td>9423674</td>\n",
       "      <td>104</td>\n",
       "      <td>MMR37271</td>\n",
       "      <td>37271</td>\n",
       "      <td>22-Jul-22</td>\n",
       "      <td>2022</td>\n",
       "      <td>1</td>\n",
       "      <td>Battles</td>\n",
       "      <td>Armed clash</td>\n",
       "      <td>Unidentified Armed Group (Myanmar)</td>\n",
       "      <td>...</td>\n",
       "      <td>Myawaddy</td>\n",
       "      <td>16.6891</td>\n",
       "      <td>98.5089</td>\n",
       "      <td>2</td>\n",
       "      <td>Democratic Voice of Burma</td>\n",
       "      <td>National</td>\n",
       "      <td>On 22 July 2022, in Myawaddy township (Myawadd...</td>\n",
       "      <td>1</td>\n",
       "      <td>1658863762</td>\n",
       "      <td>MMR</td>\n",
       "    </tr>\n",
       "  </tbody>\n",
       "</table>\n",
       "<p>5 rows × 31 columns</p>\n",
       "</div>"
      ],
      "text/plain": [
       "   data_id  iso event_id_cnty  event_id_no_cnty event_date  year  \\\n",
       "0  9423604  104      MMR37198             37198  22-Jul-22  2022   \n",
       "1  9423610  104      MMR37224             37224  22-Jul-22  2022   \n",
       "2  9423615  104      MMR37231             37231  22-Jul-22  2022   \n",
       "3  9423634  104      MMR37315             37315  22-Jul-22  2022   \n",
       "4  9423674  104      MMR37271             37271  22-Jul-22  2022   \n",
       "\n",
       "   time_precision                  event_type                 sub_event_type  \\\n",
       "0               1                     Battles                    Armed clash   \n",
       "1               1  Explosions/Remote violence  Remote explosive/landmine/IED   \n",
       "2               1  Explosions/Remote violence                        Grenade   \n",
       "3               1                     Battles                    Armed clash   \n",
       "4               1                     Battles                    Armed clash   \n",
       "\n",
       "                                        actor1  ...    location  latitude  \\\n",
       "0                                   PDF Hpruso  ...      Hpruso   19.4164   \n",
       "1  GZP-Mandalay: Generation Z Power (Mandalay)  ...  Patheingyi   22.0045   \n",
       "2                                   Toxic Boys  ...   Kyauktada   16.7743   \n",
       "3                         Zero Guerrilla Force  ...   Kywei Pon   22.0656   \n",
       "4           Unidentified Armed Group (Myanmar)  ...    Myawaddy   16.6891   \n",
       "\n",
       "  longitude geo_precision                                             source  \\\n",
       "0   97.1332             1  Ministry of Defense - NUG; Shwe Phee Myay News...   \n",
       "1   96.1634             2  Myanmar Pressphoto Agency; Eleven Media Group;...   \n",
       "2   96.1616             2                Khit Thit Media; Eleven Media Group   \n",
       "3   95.6821             1  Kachin News Group; Irrawaddy; Ministry of Defe...   \n",
       "4   98.5089             2                          Democratic Voice of Burma   \n",
       "\n",
       "           source_scale                                              notes  \\\n",
       "0              National  On 22 July 2022, in Hpruso town (Hpruso townsh...   \n",
       "1              National  On 22 July 2022, in Patheingyi township (Manda...   \n",
       "2  Subnational-National  On 22 July 2022, in Kyauktada township (Yangon...   \n",
       "3              National  On 22 July 2022, in Kywei Pon village (Sagaing...   \n",
       "4              National  On 22 July 2022, in Myawaddy township (Myawadd...   \n",
       "\n",
       "  fatalities   timestamp iso3  \n",
       "0          4  1658863762  MMR  \n",
       "1          0  1658863762  MMR  \n",
       "2          0  1658863762  MMR  \n",
       "3         10  1658863762  MMR  \n",
       "4          1  1658863762  MMR  \n",
       "\n",
       "[5 rows x 31 columns]"
      ]
     },
     "execution_count": 2,
     "metadata": {},
     "output_type": "execute_result"
    }
   ],
   "source": [
    "df = pd.read_csv('src/data/acled_1.2.2021.csv')\n",
    "df.head()"
   ]
  },
  {
   "cell_type": "code",
   "execution_count": 3,
   "id": "6b511000",
   "metadata": {},
   "outputs": [
    {
     "data": {
      "text/plain": [
       "(25465, 31)"
      ]
     },
     "execution_count": 3,
     "metadata": {},
     "output_type": "execute_result"
    }
   ],
   "source": [
    "df.shape"
   ]
  },
  {
   "cell_type": "code",
   "execution_count": 4,
   "id": "95b2ed3c",
   "metadata": {},
   "outputs": [],
   "source": [
    "pd.options.display.max_columns = None"
   ]
  },
  {
   "cell_type": "code",
   "execution_count": 5,
   "id": "e6dd677a",
   "metadata": {},
   "outputs": [
    {
     "data": {
      "text/html": [
       "<div>\n",
       "<style scoped>\n",
       "    .dataframe tbody tr th:only-of-type {\n",
       "        vertical-align: middle;\n",
       "    }\n",
       "\n",
       "    .dataframe tbody tr th {\n",
       "        vertical-align: top;\n",
       "    }\n",
       "\n",
       "    .dataframe thead th {\n",
       "        text-align: right;\n",
       "    }\n",
       "</style>\n",
       "<table border=\"1\" class=\"dataframe\">\n",
       "  <thead>\n",
       "    <tr style=\"text-align: right;\">\n",
       "      <th></th>\n",
       "      <th>data_id</th>\n",
       "      <th>iso</th>\n",
       "      <th>event_id_cnty</th>\n",
       "      <th>event_id_no_cnty</th>\n",
       "      <th>event_date</th>\n",
       "      <th>year</th>\n",
       "      <th>time_precision</th>\n",
       "      <th>event_type</th>\n",
       "      <th>sub_event_type</th>\n",
       "      <th>actor1</th>\n",
       "      <th>assoc_actor_1</th>\n",
       "      <th>inter1</th>\n",
       "      <th>actor2</th>\n",
       "      <th>assoc_actor_2</th>\n",
       "      <th>inter2</th>\n",
       "      <th>interaction</th>\n",
       "      <th>region</th>\n",
       "      <th>country</th>\n",
       "      <th>admin1</th>\n",
       "      <th>admin2</th>\n",
       "      <th>admin3</th>\n",
       "      <th>location</th>\n",
       "      <th>latitude</th>\n",
       "      <th>longitude</th>\n",
       "      <th>geo_precision</th>\n",
       "      <th>source</th>\n",
       "      <th>source_scale</th>\n",
       "      <th>notes</th>\n",
       "      <th>fatalities</th>\n",
       "      <th>timestamp</th>\n",
       "      <th>iso3</th>\n",
       "    </tr>\n",
       "  </thead>\n",
       "  <tbody>\n",
       "    <tr>\n",
       "      <th>0</th>\n",
       "      <td>9423604</td>\n",
       "      <td>104</td>\n",
       "      <td>MMR37198</td>\n",
       "      <td>37198</td>\n",
       "      <td>22-Jul-22</td>\n",
       "      <td>2022</td>\n",
       "      <td>1</td>\n",
       "      <td>Battles</td>\n",
       "      <td>Armed clash</td>\n",
       "      <td>PDF Hpruso</td>\n",
       "      <td>KNPP/KA: Karenni National Progressive Party/Ka...</td>\n",
       "      <td>3</td>\n",
       "      <td>Military Forces of Myanmar (2021-)</td>\n",
       "      <td>NaN</td>\n",
       "      <td>1</td>\n",
       "      <td>13</td>\n",
       "      <td>Southeast Asia</td>\n",
       "      <td>Myanmar</td>\n",
       "      <td>Kayah</td>\n",
       "      <td>Loikaw</td>\n",
       "      <td>Hpruso</td>\n",
       "      <td>Hpruso</td>\n",
       "      <td>19.4164</td>\n",
       "      <td>97.1332</td>\n",
       "      <td>1</td>\n",
       "      <td>Ministry of Defense - NUG; Shwe Phee Myay News...</td>\n",
       "      <td>National</td>\n",
       "      <td>On 22 July 2022, in Hpruso town (Hpruso townsh...</td>\n",
       "      <td>4</td>\n",
       "      <td>1658863762</td>\n",
       "      <td>MMR</td>\n",
       "    </tr>\n",
       "    <tr>\n",
       "      <th>1</th>\n",
       "      <td>9423610</td>\n",
       "      <td>104</td>\n",
       "      <td>MMR37224</td>\n",
       "      <td>37224</td>\n",
       "      <td>22-Jul-22</td>\n",
       "      <td>2022</td>\n",
       "      <td>1</td>\n",
       "      <td>Explosions/Remote violence</td>\n",
       "      <td>Remote explosive/landmine/IED</td>\n",
       "      <td>GZP-Mandalay: Generation Z Power (Mandalay)</td>\n",
       "      <td>People's Defense Force - Patheingyi</td>\n",
       "      <td>3</td>\n",
       "      <td>Military Forces of Myanmar (2021-)</td>\n",
       "      <td>Civilians (Myanmar); Government of Myanmar (20...</td>\n",
       "      <td>1</td>\n",
       "      <td>13</td>\n",
       "      <td>Southeast Asia</td>\n",
       "      <td>Myanmar</td>\n",
       "      <td>Mandalay</td>\n",
       "      <td>Mandalay</td>\n",
       "      <td>Patheingyi</td>\n",
       "      <td>Patheingyi</td>\n",
       "      <td>22.0045</td>\n",
       "      <td>96.1634</td>\n",
       "      <td>2</td>\n",
       "      <td>Myanmar Pressphoto Agency; Eleven Media Group;...</td>\n",
       "      <td>National</td>\n",
       "      <td>On 22 July 2022, in Patheingyi township (Manda...</td>\n",
       "      <td>0</td>\n",
       "      <td>1658863762</td>\n",
       "      <td>MMR</td>\n",
       "    </tr>\n",
       "    <tr>\n",
       "      <th>2</th>\n",
       "      <td>9423615</td>\n",
       "      <td>104</td>\n",
       "      <td>MMR37231</td>\n",
       "      <td>37231</td>\n",
       "      <td>22-Jul-22</td>\n",
       "      <td>2022</td>\n",
       "      <td>1</td>\n",
       "      <td>Explosions/Remote violence</td>\n",
       "      <td>Grenade</td>\n",
       "      <td>Toxic Boys</td>\n",
       "      <td>NaN</td>\n",
       "      <td>3</td>\n",
       "      <td>NaN</td>\n",
       "      <td>NaN</td>\n",
       "      <td>0</td>\n",
       "      <td>30</td>\n",
       "      <td>Southeast Asia</td>\n",
       "      <td>Myanmar</td>\n",
       "      <td>Yangon</td>\n",
       "      <td>Yangon-West</td>\n",
       "      <td>Kyauktada</td>\n",
       "      <td>Kyauktada</td>\n",
       "      <td>16.7743</td>\n",
       "      <td>96.1616</td>\n",
       "      <td>2</td>\n",
       "      <td>Khit Thit Media; Eleven Media Group</td>\n",
       "      <td>Subnational-National</td>\n",
       "      <td>On 22 July 2022, in Kyauktada township (Yangon...</td>\n",
       "      <td>0</td>\n",
       "      <td>1658863762</td>\n",
       "      <td>MMR</td>\n",
       "    </tr>\n",
       "    <tr>\n",
       "      <th>3</th>\n",
       "      <td>9423634</td>\n",
       "      <td>104</td>\n",
       "      <td>MMR37315</td>\n",
       "      <td>37315</td>\n",
       "      <td>22-Jul-22</td>\n",
       "      <td>2022</td>\n",
       "      <td>1</td>\n",
       "      <td>Battles</td>\n",
       "      <td>Armed clash</td>\n",
       "      <td>Zero Guerrilla Force</td>\n",
       "      <td>People's Defense Force - Sagaing District; Peo...</td>\n",
       "      <td>3</td>\n",
       "      <td>Military Forces of Myanmar (2021-)</td>\n",
       "      <td>Pyu Saw Htee</td>\n",
       "      <td>1</td>\n",
       "      <td>13</td>\n",
       "      <td>Southeast Asia</td>\n",
       "      <td>Myanmar</td>\n",
       "      <td>Sagaing</td>\n",
       "      <td>Sagaing</td>\n",
       "      <td>Sagaing</td>\n",
       "      <td>Kywei Pon</td>\n",
       "      <td>22.0656</td>\n",
       "      <td>95.6821</td>\n",
       "      <td>1</td>\n",
       "      <td>Kachin News Group; Irrawaddy; Ministry of Defe...</td>\n",
       "      <td>National</td>\n",
       "      <td>On 22 July 2022, in Kywei Pon village (Sagaing...</td>\n",
       "      <td>10</td>\n",
       "      <td>1658863762</td>\n",
       "      <td>MMR</td>\n",
       "    </tr>\n",
       "    <tr>\n",
       "      <th>4</th>\n",
       "      <td>9423674</td>\n",
       "      <td>104</td>\n",
       "      <td>MMR37271</td>\n",
       "      <td>37271</td>\n",
       "      <td>22-Jul-22</td>\n",
       "      <td>2022</td>\n",
       "      <td>1</td>\n",
       "      <td>Battles</td>\n",
       "      <td>Armed clash</td>\n",
       "      <td>Unidentified Armed Group (Myanmar)</td>\n",
       "      <td>NaN</td>\n",
       "      <td>3</td>\n",
       "      <td>Military Forces of Myanmar (2021-) Border Guar...</td>\n",
       "      <td>NaN</td>\n",
       "      <td>1</td>\n",
       "      <td>13</td>\n",
       "      <td>Southeast Asia</td>\n",
       "      <td>Myanmar</td>\n",
       "      <td>Kayin</td>\n",
       "      <td>Myawaddy</td>\n",
       "      <td>Myawaddy</td>\n",
       "      <td>Myawaddy</td>\n",
       "      <td>16.6891</td>\n",
       "      <td>98.5089</td>\n",
       "      <td>2</td>\n",
       "      <td>Democratic Voice of Burma</td>\n",
       "      <td>National</td>\n",
       "      <td>On 22 July 2022, in Myawaddy township (Myawadd...</td>\n",
       "      <td>1</td>\n",
       "      <td>1658863762</td>\n",
       "      <td>MMR</td>\n",
       "    </tr>\n",
       "  </tbody>\n",
       "</table>\n",
       "</div>"
      ],
      "text/plain": [
       "   data_id  iso event_id_cnty  event_id_no_cnty event_date  year  \\\n",
       "0  9423604  104      MMR37198             37198  22-Jul-22  2022   \n",
       "1  9423610  104      MMR37224             37224  22-Jul-22  2022   \n",
       "2  9423615  104      MMR37231             37231  22-Jul-22  2022   \n",
       "3  9423634  104      MMR37315             37315  22-Jul-22  2022   \n",
       "4  9423674  104      MMR37271             37271  22-Jul-22  2022   \n",
       "\n",
       "   time_precision                  event_type                 sub_event_type  \\\n",
       "0               1                     Battles                    Armed clash   \n",
       "1               1  Explosions/Remote violence  Remote explosive/landmine/IED   \n",
       "2               1  Explosions/Remote violence                        Grenade   \n",
       "3               1                     Battles                    Armed clash   \n",
       "4               1                     Battles                    Armed clash   \n",
       "\n",
       "                                        actor1  \\\n",
       "0                                   PDF Hpruso   \n",
       "1  GZP-Mandalay: Generation Z Power (Mandalay)   \n",
       "2                                   Toxic Boys   \n",
       "3                         Zero Guerrilla Force   \n",
       "4           Unidentified Armed Group (Myanmar)   \n",
       "\n",
       "                                       assoc_actor_1  inter1  \\\n",
       "0  KNPP/KA: Karenni National Progressive Party/Ka...       3   \n",
       "1                People's Defense Force - Patheingyi       3   \n",
       "2                                                NaN       3   \n",
       "3  People's Defense Force - Sagaing District; Peo...       3   \n",
       "4                                                NaN       3   \n",
       "\n",
       "                                              actor2  \\\n",
       "0                 Military Forces of Myanmar (2021-)   \n",
       "1                 Military Forces of Myanmar (2021-)   \n",
       "2                                                NaN   \n",
       "3                 Military Forces of Myanmar (2021-)   \n",
       "4  Military Forces of Myanmar (2021-) Border Guar...   \n",
       "\n",
       "                                       assoc_actor_2  inter2  interaction  \\\n",
       "0                                                NaN       1           13   \n",
       "1  Civilians (Myanmar); Government of Myanmar (20...       1           13   \n",
       "2                                                NaN       0           30   \n",
       "3                                       Pyu Saw Htee       1           13   \n",
       "4                                                NaN       1           13   \n",
       "\n",
       "           region  country    admin1       admin2      admin3    location  \\\n",
       "0  Southeast Asia  Myanmar     Kayah       Loikaw      Hpruso      Hpruso   \n",
       "1  Southeast Asia  Myanmar  Mandalay     Mandalay  Patheingyi  Patheingyi   \n",
       "2  Southeast Asia  Myanmar    Yangon  Yangon-West   Kyauktada   Kyauktada   \n",
       "3  Southeast Asia  Myanmar   Sagaing      Sagaing     Sagaing   Kywei Pon   \n",
       "4  Southeast Asia  Myanmar     Kayin     Myawaddy    Myawaddy    Myawaddy   \n",
       "\n",
       "   latitude  longitude  geo_precision  \\\n",
       "0   19.4164    97.1332              1   \n",
       "1   22.0045    96.1634              2   \n",
       "2   16.7743    96.1616              2   \n",
       "3   22.0656    95.6821              1   \n",
       "4   16.6891    98.5089              2   \n",
       "\n",
       "                                              source          source_scale  \\\n",
       "0  Ministry of Defense - NUG; Shwe Phee Myay News...              National   \n",
       "1  Myanmar Pressphoto Agency; Eleven Media Group;...              National   \n",
       "2                Khit Thit Media; Eleven Media Group  Subnational-National   \n",
       "3  Kachin News Group; Irrawaddy; Ministry of Defe...              National   \n",
       "4                          Democratic Voice of Burma              National   \n",
       "\n",
       "                                               notes  fatalities   timestamp  \\\n",
       "0  On 22 July 2022, in Hpruso town (Hpruso townsh...           4  1658863762   \n",
       "1  On 22 July 2022, in Patheingyi township (Manda...           0  1658863762   \n",
       "2  On 22 July 2022, in Kyauktada township (Yangon...           0  1658863762   \n",
       "3  On 22 July 2022, in Kywei Pon village (Sagaing...          10  1658863762   \n",
       "4  On 22 July 2022, in Myawaddy township (Myawadd...           1  1658863762   \n",
       "\n",
       "  iso3  \n",
       "0  MMR  \n",
       "1  MMR  \n",
       "2  MMR  \n",
       "3  MMR  \n",
       "4  MMR  "
      ]
     },
     "execution_count": 5,
     "metadata": {},
     "output_type": "execute_result"
    }
   ],
   "source": [
    "df.head()"
   ]
  },
  {
   "cell_type": "code",
   "execution_count": 6,
   "id": "4b2a8c22",
   "metadata": {
    "scrolled": true
   },
   "outputs": [
    {
     "name": "stdout",
     "output_type": "stream",
     "text": [
      "<class 'pandas.core.frame.DataFrame'>\n",
      "RangeIndex: 25465 entries, 0 to 25464\n",
      "Data columns (total 31 columns):\n",
      " #   Column            Non-Null Count  Dtype  \n",
      "---  ------            --------------  -----  \n",
      " 0   data_id           25465 non-null  int64  \n",
      " 1   iso               25465 non-null  int64  \n",
      " 2   event_id_cnty     25465 non-null  object \n",
      " 3   event_id_no_cnty  25465 non-null  int64  \n",
      " 4   event_date        25465 non-null  object \n",
      " 5   year              25465 non-null  int64  \n",
      " 6   time_precision    25465 non-null  int64  \n",
      " 7   event_type        25465 non-null  object \n",
      " 8   sub_event_type    25465 non-null  object \n",
      " 9   actor1            25465 non-null  object \n",
      " 10  assoc_actor_1     5386 non-null   object \n",
      " 11  inter1            25465 non-null  int64  \n",
      " 12  actor2            15673 non-null  object \n",
      " 13  assoc_actor_2     4970 non-null   object \n",
      " 14  inter2            25465 non-null  int64  \n",
      " 15  interaction       25465 non-null  int64  \n",
      " 16  region            25465 non-null  object \n",
      " 17  country           25465 non-null  object \n",
      " 18  admin1            25465 non-null  object \n",
      " 19  admin2            25465 non-null  object \n",
      " 20  admin3            24690 non-null  object \n",
      " 21  location          25465 non-null  object \n",
      " 22  latitude          25465 non-null  float64\n",
      " 23  longitude         25465 non-null  float64\n",
      " 24  geo_precision     25465 non-null  int64  \n",
      " 25  source            25465 non-null  object \n",
      " 26  source_scale      25465 non-null  object \n",
      " 27  notes             25465 non-null  object \n",
      " 28  fatalities        25465 non-null  int64  \n",
      " 29  timestamp         25465 non-null  int64  \n",
      " 30  iso3              25465 non-null  object \n",
      "dtypes: float64(2), int64(11), object(18)\n",
      "memory usage: 6.0+ MB\n"
     ]
    }
   ],
   "source": [
    "df.info()"
   ]
  },
  {
   "cell_type": "code",
   "execution_count": 7,
   "id": "ad1e7c81",
   "metadata": {},
   "outputs": [
    {
     "data": {
      "text/plain": [
       "Index(['data_id', 'iso', 'event_id_cnty', 'event_id_no_cnty', 'event_date',\n",
       "       'year', 'time_precision', 'event_type', 'sub_event_type', 'actor1',\n",
       "       'assoc_actor_1', 'inter1', 'actor2', 'assoc_actor_2', 'inter2',\n",
       "       'interaction', 'region', 'country', 'admin1', 'admin2', 'admin3',\n",
       "       'location', 'latitude', 'longitude', 'geo_precision', 'source',\n",
       "       'source_scale', 'notes', 'fatalities', 'timestamp', 'iso3'],\n",
       "      dtype='object')"
      ]
     },
     "execution_count": 7,
     "metadata": {},
     "output_type": "execute_result"
    }
   ],
   "source": [
    "df.columns"
   ]
  },
  {
   "cell_type": "code",
   "execution_count": 10,
   "id": "c78800d8",
   "metadata": {},
   "outputs": [
    {
     "data": {
      "text/html": [
       "<div>\n",
       "<style scoped>\n",
       "    .dataframe tbody tr th:only-of-type {\n",
       "        vertical-align: middle;\n",
       "    }\n",
       "\n",
       "    .dataframe tbody tr th {\n",
       "        vertical-align: top;\n",
       "    }\n",
       "\n",
       "    .dataframe thead th {\n",
       "        text-align: right;\n",
       "    }\n",
       "</style>\n",
       "<table border=\"1\" class=\"dataframe\">\n",
       "  <thead>\n",
       "    <tr style=\"text-align: right;\">\n",
       "      <th></th>\n",
       "      <th>event_date</th>\n",
       "      <th>event_type</th>\n",
       "      <th>sub_event_type</th>\n",
       "      <th>actor1</th>\n",
       "      <th>actor2</th>\n",
       "      <th>interaction</th>\n",
       "      <th>admin1</th>\n",
       "      <th>fatalities</th>\n",
       "    </tr>\n",
       "  </thead>\n",
       "  <tbody>\n",
       "    <tr>\n",
       "      <th>0</th>\n",
       "      <td>22-Jul-22</td>\n",
       "      <td>Battles</td>\n",
       "      <td>Armed clash</td>\n",
       "      <td>PDF Hpruso</td>\n",
       "      <td>Military Forces of Myanmar (2021-)</td>\n",
       "      <td>13</td>\n",
       "      <td>Kayah</td>\n",
       "      <td>4</td>\n",
       "    </tr>\n",
       "    <tr>\n",
       "      <th>1</th>\n",
       "      <td>22-Jul-22</td>\n",
       "      <td>Explosions/Remote violence</td>\n",
       "      <td>Remote explosive/landmine/IED</td>\n",
       "      <td>GZP-Mandalay: Generation Z Power (Mandalay)</td>\n",
       "      <td>Military Forces of Myanmar (2021-)</td>\n",
       "      <td>13</td>\n",
       "      <td>Mandalay</td>\n",
       "      <td>0</td>\n",
       "    </tr>\n",
       "    <tr>\n",
       "      <th>2</th>\n",
       "      <td>22-Jul-22</td>\n",
       "      <td>Explosions/Remote violence</td>\n",
       "      <td>Grenade</td>\n",
       "      <td>Toxic Boys</td>\n",
       "      <td>NaN</td>\n",
       "      <td>30</td>\n",
       "      <td>Yangon</td>\n",
       "      <td>0</td>\n",
       "    </tr>\n",
       "    <tr>\n",
       "      <th>3</th>\n",
       "      <td>22-Jul-22</td>\n",
       "      <td>Battles</td>\n",
       "      <td>Armed clash</td>\n",
       "      <td>Zero Guerrilla Force</td>\n",
       "      <td>Military Forces of Myanmar (2021-)</td>\n",
       "      <td>13</td>\n",
       "      <td>Sagaing</td>\n",
       "      <td>10</td>\n",
       "    </tr>\n",
       "    <tr>\n",
       "      <th>4</th>\n",
       "      <td>22-Jul-22</td>\n",
       "      <td>Battles</td>\n",
       "      <td>Armed clash</td>\n",
       "      <td>Unidentified Armed Group (Myanmar)</td>\n",
       "      <td>Military Forces of Myanmar (2021-) Border Guar...</td>\n",
       "      <td>13</td>\n",
       "      <td>Kayin</td>\n",
       "      <td>1</td>\n",
       "    </tr>\n",
       "  </tbody>\n",
       "</table>\n",
       "</div>"
      ],
      "text/plain": [
       "  event_date                  event_type                 sub_event_type  \\\n",
       "0  22-Jul-22                     Battles                    Armed clash   \n",
       "1  22-Jul-22  Explosions/Remote violence  Remote explosive/landmine/IED   \n",
       "2  22-Jul-22  Explosions/Remote violence                        Grenade   \n",
       "3  22-Jul-22                     Battles                    Armed clash   \n",
       "4  22-Jul-22                     Battles                    Armed clash   \n",
       "\n",
       "                                        actor1  \\\n",
       "0                                   PDF Hpruso   \n",
       "1  GZP-Mandalay: Generation Z Power (Mandalay)   \n",
       "2                                   Toxic Boys   \n",
       "3                         Zero Guerrilla Force   \n",
       "4           Unidentified Armed Group (Myanmar)   \n",
       "\n",
       "                                              actor2  interaction    admin1  \\\n",
       "0                 Military Forces of Myanmar (2021-)           13     Kayah   \n",
       "1                 Military Forces of Myanmar (2021-)           13  Mandalay   \n",
       "2                                                NaN           30    Yangon   \n",
       "3                 Military Forces of Myanmar (2021-)           13   Sagaing   \n",
       "4  Military Forces of Myanmar (2021-) Border Guar...           13     Kayin   \n",
       "\n",
       "   fatalities  \n",
       "0           4  \n",
       "1           0  \n",
       "2           0  \n",
       "3          10  \n",
       "4           1  "
      ]
     },
     "execution_count": 10,
     "metadata": {},
     "output_type": "execute_result"
    }
   ],
   "source": [
    "cols = ['event_date', 'event_type', 'sub_event_type', 'actor1',\n",
    "       'actor2', 'interaction', 'admin1',  'fatalities',]\n",
    "df = df[cols]\n",
    "df.head()"
   ]
  },
  {
   "cell_type": "code",
   "execution_count": 11,
   "id": "6a0a7cbc",
   "metadata": {},
   "outputs": [
    {
     "name": "stdout",
     "output_type": "stream",
     "text": [
      "<class 'pandas.core.frame.DataFrame'>\n",
      "RangeIndex: 25465 entries, 0 to 25464\n",
      "Data columns (total 8 columns):\n",
      " #   Column          Non-Null Count  Dtype \n",
      "---  ------          --------------  ----- \n",
      " 0   event_date      25465 non-null  object\n",
      " 1   event_type      25465 non-null  object\n",
      " 2   sub_event_type  25465 non-null  object\n",
      " 3   actor1          25465 non-null  object\n",
      " 4   actor2          15673 non-null  object\n",
      " 5   interaction     25465 non-null  int64 \n",
      " 6   admin1          25465 non-null  object\n",
      " 7   fatalities      25465 non-null  int64 \n",
      "dtypes: int64(2), object(6)\n",
      "memory usage: 1.6+ MB\n"
     ]
    }
   ],
   "source": [
    "df.info()"
   ]
  },
  {
   "cell_type": "code",
   "execution_count": 12,
   "id": "61013dfc",
   "metadata": {},
   "outputs": [],
   "source": [
    "df['event_date'] = pd.to_datetime(df['event_date'])\n"
   ]
  },
  {
   "cell_type": "code",
   "execution_count": 16,
   "id": "8b0c3cec",
   "metadata": {},
   "outputs": [],
   "source": [
    "cat_cols = ['event_type', 'sub_event_type', 'actor1', 'actor2', 'interaction', 'admin1']\n",
    "for col in cat_cols:\n",
    "    df[col] = df[col].astype('category')"
   ]
  },
  {
   "cell_type": "code",
   "execution_count": 17,
   "id": "d7d322e2",
   "metadata": {},
   "outputs": [
    {
     "name": "stdout",
     "output_type": "stream",
     "text": [
      "<class 'pandas.core.frame.DataFrame'>\n",
      "RangeIndex: 25465 entries, 0 to 25464\n",
      "Data columns (total 8 columns):\n",
      " #   Column          Non-Null Count  Dtype         \n",
      "---  ------          --------------  -----         \n",
      " 0   event_date      25465 non-null  datetime64[ns]\n",
      " 1   event_type      25465 non-null  category      \n",
      " 2   sub_event_type  25465 non-null  category      \n",
      " 3   actor1          25465 non-null  category      \n",
      " 4   actor2          15673 non-null  category      \n",
      " 5   interaction     25465 non-null  category      \n",
      " 6   admin1          25465 non-null  category      \n",
      " 7   fatalities      25465 non-null  int64         \n",
      "dtypes: category(6), datetime64[ns](1), int64(1)\n",
      "memory usage: 648.8 KB\n"
     ]
    }
   ],
   "source": [
    "df.info()"
   ]
  },
  {
   "cell_type": "code",
   "execution_count": 19,
   "id": "8876a38f",
   "metadata": {},
   "outputs": [
    {
     "data": {
      "text/plain": [
       "<AxesSubplot:>"
      ]
     },
     "execution_count": 19,
     "metadata": {},
     "output_type": "execute_result"
    },
    {
     "data": {
      "image/png": "[encoded data removed]",
      "text/plain": [
       "<Figure size 432x288 with 1 Axes>"
      ]
     },
     "metadata": {
      "needs_background": "light"
     },
     "output_type": "display_data"
    }
   ],
   "source": [
    "df['fatalities'].hist(bins=20)"
   ]
  },
  {
   "cell_type": "code",
   "execution_count": 20,
   "id": "e80a5baf",
   "metadata": {},
   "outputs": [
    {
     "data": {
      "text/html": [
       "<div>\n",
       "<style scoped>\n",
       "    .dataframe tbody tr th:only-of-type {\n",
       "        vertical-align: middle;\n",
       "    }\n",
       "\n",
       "    .dataframe tbody tr th {\n",
       "        vertical-align: top;\n",
       "    }\n",
       "\n",
       "    .dataframe thead th {\n",
       "        text-align: right;\n",
       "    }\n",
       "</style>\n",
       "<table border=\"1\" class=\"dataframe\">\n",
       "  <thead>\n",
       "    <tr style=\"text-align: right;\">\n",
       "      <th></th>\n",
       "      <th>fatalities</th>\n",
       "    </tr>\n",
       "  </thead>\n",
       "  <tbody>\n",
       "    <tr>\n",
       "      <th>count</th>\n",
       "      <td>25465.000000</td>\n",
       "    </tr>\n",
       "    <tr>\n",
       "      <th>mean</th>\n",
       "      <td>0.927194</td>\n",
       "    </tr>\n",
       "    <tr>\n",
       "      <th>std</th>\n",
       "      <td>3.546940</td>\n",
       "    </tr>\n",
       "    <tr>\n",
       "      <th>min</th>\n",
       "      <td>0.000000</td>\n",
       "    </tr>\n",
       "    <tr>\n",
       "      <th>25%</th>\n",
       "      <td>0.000000</td>\n",
       "    </tr>\n",
       "    <tr>\n",
       "      <th>50%</th>\n",
       "      <td>0.000000</td>\n",
       "    </tr>\n",
       "    <tr>\n",
       "      <th>75%</th>\n",
       "      <td>0.000000</td>\n",
       "    </tr>\n",
       "    <tr>\n",
       "      <th>max</th>\n",
       "      <td>88.000000</td>\n",
       "    </tr>\n",
       "  </tbody>\n",
       "</table>\n",
       "</div>"
      ],
      "text/plain": [
       "         fatalities\n",
       "count  25465.000000\n",
       "mean       0.927194\n",
       "std        3.546940\n",
       "min        0.000000\n",
       "25%        0.000000\n",
       "50%        0.000000\n",
       "75%        0.000000\n",
       "max       88.000000"
      ]
     },
     "execution_count": 20,
     "metadata": {},
     "output_type": "execute_result"
    }
   ],
   "source": [
    "df.describe()"
   ]
  },
  {
   "cell_type": "code",
   "execution_count": 21,
   "id": "3d192281",
   "metadata": {},
   "outputs": [
    {
     "data": {
      "text/html": [
       "<div>\n",
       "<style scoped>\n",
       "    .dataframe tbody tr th:only-of-type {\n",
       "        vertical-align: middle;\n",
       "    }\n",
       "\n",
       "    .dataframe tbody tr th {\n",
       "        vertical-align: top;\n",
       "    }\n",
       "\n",
       "    .dataframe thead th {\n",
       "        text-align: right;\n",
       "    }\n",
       "</style>\n",
       "<table border=\"1\" class=\"dataframe\">\n",
       "  <thead>\n",
       "    <tr style=\"text-align: right;\">\n",
       "      <th></th>\n",
       "      <th>event_date</th>\n",
       "      <th>event_type</th>\n",
       "      <th>sub_event_type</th>\n",
       "      <th>actor1</th>\n",
       "      <th>actor2</th>\n",
       "      <th>interaction</th>\n",
       "      <th>admin1</th>\n",
       "      <th>fatalities</th>\n",
       "    </tr>\n",
       "  </thead>\n",
       "  <tbody>\n",
       "    <tr>\n",
       "      <th>0</th>\n",
       "      <td>2022-07-22</td>\n",
       "      <td>Battles</td>\n",
       "      <td>Armed clash</td>\n",
       "      <td>PDF Hpruso</td>\n",
       "      <td>Military Forces of Myanmar (2021-)</td>\n",
       "      <td>13</td>\n",
       "      <td>Kayah</td>\n",
       "      <td>4</td>\n",
       "    </tr>\n",
       "    <tr>\n",
       "      <th>1</th>\n",
       "      <td>2022-07-22</td>\n",
       "      <td>Explosions/Remote violence</td>\n",
       "      <td>Remote explosive/landmine/IED</td>\n",
       "      <td>GZP-Mandalay: Generation Z Power (Mandalay)</td>\n",
       "      <td>Military Forces of Myanmar (2021-)</td>\n",
       "      <td>13</td>\n",
       "      <td>Mandalay</td>\n",
       "      <td>0</td>\n",
       "    </tr>\n",
       "    <tr>\n",
       "      <th>2</th>\n",
       "      <td>2022-07-22</td>\n",
       "      <td>Explosions/Remote violence</td>\n",
       "      <td>Grenade</td>\n",
       "      <td>Toxic Boys</td>\n",
       "      <td>NaN</td>\n",
       "      <td>30</td>\n",
       "      <td>Yangon</td>\n",
       "      <td>0</td>\n",
       "    </tr>\n",
       "    <tr>\n",
       "      <th>3</th>\n",
       "      <td>2022-07-22</td>\n",
       "      <td>Battles</td>\n",
       "      <td>Armed clash</td>\n",
       "      <td>Zero Guerrilla Force</td>\n",
       "      <td>Military Forces of Myanmar (2021-)</td>\n",
       "      <td>13</td>\n",
       "      <td>Sagaing</td>\n",
       "      <td>10</td>\n",
       "    </tr>\n",
       "    <tr>\n",
       "      <th>4</th>\n",
       "      <td>2022-07-22</td>\n",
       "      <td>Battles</td>\n",
       "      <td>Armed clash</td>\n",
       "      <td>Unidentified Armed Group (Myanmar)</td>\n",
       "      <td>Military Forces of Myanmar (2021-) Border Guar...</td>\n",
       "      <td>13</td>\n",
       "      <td>Kayin</td>\n",
       "      <td>1</td>\n",
       "    </tr>\n",
       "  </tbody>\n",
       "</table>\n",
       "</div>"
      ],
      "text/plain": [
       "  event_date                  event_type                 sub_event_type  \\\n",
       "0 2022-07-22                     Battles                    Armed clash   \n",
       "1 2022-07-22  Explosions/Remote violence  Remote explosive/landmine/IED   \n",
       "2 2022-07-22  Explosions/Remote violence                        Grenade   \n",
       "3 2022-07-22                     Battles                    Armed clash   \n",
       "4 2022-07-22                     Battles                    Armed clash   \n",
       "\n",
       "                                        actor1  \\\n",
       "0                                   PDF Hpruso   \n",
       "1  GZP-Mandalay: Generation Z Power (Mandalay)   \n",
       "2                                   Toxic Boys   \n",
       "3                         Zero Guerrilla Force   \n",
       "4           Unidentified Armed Group (Myanmar)   \n",
       "\n",
       "                                              actor2 interaction    admin1  \\\n",
       "0                 Military Forces of Myanmar (2021-)          13     Kayah   \n",
       "1                 Military Forces of Myanmar (2021-)          13  Mandalay   \n",
       "2                                                NaN          30    Yangon   \n",
       "3                 Military Forces of Myanmar (2021-)          13   Sagaing   \n",
       "4  Military Forces of Myanmar (2021-) Border Guar...          13     Kayin   \n",
       "\n",
       "   fatalities  \n",
       "0           4  \n",
       "1           0  \n",
       "2           0  \n",
       "3          10  \n",
       "4           1  "
      ]
     },
     "execution_count": 21,
     "metadata": {},
     "output_type": "execute_result"
    }
   ],
   "source": [
    "df.head()"
   ]
  },
  {
   "cell_type": "code",
   "execution_count": 24,
   "id": "3dabf07f",
   "metadata": {},
   "outputs": [
    {
     "data": {
      "text/plain": [
       "Protests                      7248\n",
       "Strategic developments        5764\n",
       "Explosions/Remote violence    4847\n",
       "Battles                       4485\n",
       "Violence against civilians    3017\n",
       "Riots                          104\n",
       "Name: event_type, dtype: int64"
      ]
     },
     "execution_count": 24,
     "metadata": {},
     "output_type": "execute_result"
    }
   ],
   "source": [
    "df['event_type'].value_counts()"
   ]
  },
  {
   "cell_type": "code",
   "execution_count": 25,
   "id": "f70e790f",
   "metadata": {},
   "outputs": [
    {
     "data": {
      "text/plain": [
       "Index(['event_date', 'event_type', 'sub_event_type', 'actor1', 'actor2',\n",
       "       'interaction', 'admin1', 'fatalities'],\n",
       "      dtype='object')"
      ]
     },
     "execution_count": 25,
     "metadata": {},
     "output_type": "execute_result"
    }
   ],
   "source": [
    "df.columns"
   ]
  },
  {
   "cell_type": "code",
   "execution_count": 28,
   "id": "a5bcd201",
   "metadata": {
    "scrolled": true
   },
   "outputs": [
    {
     "name": "stdout",
     "output_type": "stream",
     "text": [
      "event_type\n",
      "----------------------\n",
      "Protests                      7248\n",
      "Strategic developments        5764\n",
      "Explosions/Remote violence    4847\n",
      "Battles                       4485\n",
      "Violence against civilians    3017\n",
      "Riots                          104\n",
      "Name: event_type, dtype: int64\n",
      "=====================\n",
      "sub_event_type\n",
      "----------------------\n",
      "Peaceful protest                       6564\n",
      "Armed clash                            4470\n",
      "Remote explosive/landmine/IED          3474\n",
      "Attack                                 2726\n",
      "Arrests                                2649\n",
      "Looting/property destruction           1660\n",
      "Shelling/artillery/missile attack       860\n",
      "Change to group/activity                682\n",
      "Other                                   558\n",
      "Protest with intervention               457\n",
      "Air/drone strike                        290\n",
      "Abduction/forced disappearance          266\n",
      "Excessive force against protesters      227\n",
      "Grenade                                 222\n",
      "Disrupted weapons use                   141\n",
      "Violent demonstration                    86\n",
      "Headquarters or base established         67\n",
      "Sexual violence                          25\n",
      "Mob violence                             18\n",
      "Non-state actor overtakes territory      13\n",
      "Agreement                                 6\n",
      "Government regains territory              2\n",
      "Non-violent transfer of territory         1\n",
      "Suicide bomb                              1\n",
      "Name: sub_event_type, dtype: int64\n",
      "=====================\n",
      "actor1\n",
      "----------------------\n",
      "Military Forces of Myanmar (2021-)                                    9183\n",
      "Protesters (Myanmar)                                                  7251\n",
      "Unidentified Armed Group (Myanmar)                                    2990\n",
      "KIO/KIA: Kachin Independence Organization/Kachin Independence Army     418\n",
      "Unidentified Anti-Coup Armed Group                                     375\n",
      "                                                                      ... \n",
      "People's Defense Force - Hsipaw                                          1\n",
      "People's Defense Force - Hmawbi                                          1\n",
      "People's Defense Force - Hkamti                                          1\n",
      "People's Defense Force - Einme                                           1\n",
      "Budalin Rocket                                                           1\n",
      "Name: actor1, Length: 814, dtype: int64\n",
      "=====================\n",
      "actor2\n",
      "----------------------\n",
      "Civilians (Myanmar)                                                   8071\n",
      "Military Forces of Myanmar (2021-)                                    3943\n",
      "Police Forces of Myanmar (2021-)                                       775\n",
      "KIO/KIA: Kachin Independence Organization/Kachin Independence Army     456\n",
      "KNU/KNLA: Karen National Union/Karen National Liberation Army          296\n",
      "                                                                      ... \n",
      "GTR-MMU: Ghost Team Ranger Myinmu                                        1\n",
      "GTF: Golden Triangle Force                                               1\n",
      "GOD: Gods of Death                                                       1\n",
      "GALON PDF                                                                1\n",
      "11 Brothers Revolution Forces                                            1\n",
      "Name: actor2, Length: 276, dtype: int64\n",
      "=====================\n",
      "interaction\n",
      "----------------------\n",
      "60    6560\n",
      "17    6188\n",
      "13    4627\n",
      "12    1784\n",
      "30    1752\n",
      "37    1752\n",
      "10    1049\n",
      "16     677\n",
      "70     371\n",
      "33     232\n",
      "22     140\n",
      "27     130\n",
      "15      70\n",
      "20      44\n",
      "11      25\n",
      "50      16\n",
      "57      11\n",
      "23       8\n",
      "66       7\n",
      "55       6\n",
      "36       4\n",
      "38       3\n",
      "47       2\n",
      "56       2\n",
      "18       1\n",
      "14       1\n",
      "24       1\n",
      "68       1\n",
      "45       1\n",
      "Name: interaction, dtype: int64\n",
      "=====================\n",
      "admin1\n",
      "----------------------\n",
      "Sagaing        6729\n",
      "Yangon         2913\n",
      "Mandalay       2907\n",
      "Magway         2286\n",
      "Kachin         1647\n",
      "Shan-North     1583\n",
      "Tanintharyi    1105\n",
      "Chin            923\n",
      "Kayin           904\n",
      "Mon             850\n",
      "Kayah           750\n",
      "Ayeyarwady      734\n",
      "Shan-South      725\n",
      "Bago-East       455\n",
      "Bago-West       329\n",
      "Rakhine         290\n",
      "Nay Pyi Taw     253\n",
      "Shan-East        82\n",
      "Name: admin1, dtype: int64\n",
      "=====================\n"
     ]
    }
   ],
   "source": [
    "for col in cat_cols:\n",
    "    print(col)\n",
    "    print('----------------------')\n",
    "    print(df[col].value_counts())\n",
    "    print('=====================')"
   ]
  },
  {
   "cell_type": "code",
   "execution_count": 29,
   "id": "63f7a7d1",
   "metadata": {},
   "outputs": [
    {
     "data": {
      "text/plain": [
       "event_date           0\n",
       "event_type           0\n",
       "sub_event_type       0\n",
       "actor1               0\n",
       "actor2            9792\n",
       "interaction          0\n",
       "admin1               0\n",
       "fatalities           0\n",
       "dtype: int64"
      ]
     },
     "execution_count": 29,
     "metadata": {},
     "output_type": "execute_result"
    }
   ],
   "source": [
    "df.isna().sum()"
   ]
  },
  {
   "cell_type": "code",
   "execution_count": 31,
   "id": "1dd0a78e",
   "metadata": {},
   "outputs": [
    {
     "data": {
      "text/plain": [
       "event_date         0.000000\n",
       "event_type         0.000000\n",
       "sub_event_type     0.000000\n",
       "actor1             0.000000\n",
       "actor2            38.452778\n",
       "interaction        0.000000\n",
       "admin1             0.000000\n",
       "fatalities         0.000000\n",
       "dtype: float64"
      ]
     },
     "execution_count": 31,
     "metadata": {},
     "output_type": "execute_result"
    }
   ],
   "source": [
    "(df.isna().sum() / len(df)) * 100"
   ]
  },
  {
   "cell_type": "code",
   "execution_count": 32,
   "id": "0430a111",
   "metadata": {},
   "outputs": [
    {
     "data": {
      "text/html": [
       "<div>\n",
       "<style scoped>\n",
       "    .dataframe tbody tr th:only-of-type {\n",
       "        vertical-align: middle;\n",
       "    }\n",
       "\n",
       "    .dataframe tbody tr th {\n",
       "        vertical-align: top;\n",
       "    }\n",
       "\n",
       "    .dataframe thead th {\n",
       "        text-align: right;\n",
       "    }\n",
       "</style>\n",
       "<table border=\"1\" class=\"dataframe\">\n",
       "  <thead>\n",
       "    <tr style=\"text-align: right;\">\n",
       "      <th></th>\n",
       "      <th>event_date</th>\n",
       "      <th>event_type</th>\n",
       "      <th>sub_event_type</th>\n",
       "      <th>actor1</th>\n",
       "      <th>actor2</th>\n",
       "      <th>interaction</th>\n",
       "      <th>admin1</th>\n",
       "      <th>fatalities</th>\n",
       "    </tr>\n",
       "  </thead>\n",
       "  <tbody>\n",
       "    <tr>\n",
       "      <th>9</th>\n",
       "      <td>2022-07-22</td>\n",
       "      <td>Protests</td>\n",
       "      <td>Peaceful protest</td>\n",
       "      <td>Protesters (Myanmar)</td>\n",
       "      <td>NaN</td>\n",
       "      <td>60</td>\n",
       "      <td>Sagaing</td>\n",
       "      <td>0</td>\n",
       "    </tr>\n",
       "    <tr>\n",
       "      <th>10</th>\n",
       "      <td>2022-07-22</td>\n",
       "      <td>Protests</td>\n",
       "      <td>Peaceful protest</td>\n",
       "      <td>Protesters (Myanmar)</td>\n",
       "      <td>NaN</td>\n",
       "      <td>60</td>\n",
       "      <td>Sagaing</td>\n",
       "      <td>0</td>\n",
       "    </tr>\n",
       "    <tr>\n",
       "      <th>11</th>\n",
       "      <td>2022-07-22</td>\n",
       "      <td>Protests</td>\n",
       "      <td>Peaceful protest</td>\n",
       "      <td>Protesters (Myanmar)</td>\n",
       "      <td>NaN</td>\n",
       "      <td>60</td>\n",
       "      <td>Sagaing</td>\n",
       "      <td>0</td>\n",
       "    </tr>\n",
       "    <tr>\n",
       "      <th>35</th>\n",
       "      <td>2022-07-21</td>\n",
       "      <td>Protests</td>\n",
       "      <td>Peaceful protest</td>\n",
       "      <td>Protesters (Myanmar)</td>\n",
       "      <td>NaN</td>\n",
       "      <td>60</td>\n",
       "      <td>Sagaing</td>\n",
       "      <td>0</td>\n",
       "    </tr>\n",
       "    <tr>\n",
       "      <th>36</th>\n",
       "      <td>2022-07-21</td>\n",
       "      <td>Protests</td>\n",
       "      <td>Peaceful protest</td>\n",
       "      <td>Protesters (Myanmar)</td>\n",
       "      <td>NaN</td>\n",
       "      <td>60</td>\n",
       "      <td>Sagaing</td>\n",
       "      <td>0</td>\n",
       "    </tr>\n",
       "    <tr>\n",
       "      <th>...</th>\n",
       "      <td>...</td>\n",
       "      <td>...</td>\n",
       "      <td>...</td>\n",
       "      <td>...</td>\n",
       "      <td>...</td>\n",
       "      <td>...</td>\n",
       "      <td>...</td>\n",
       "      <td>...</td>\n",
       "    </tr>\n",
       "    <tr>\n",
       "      <th>25455</th>\n",
       "      <td>2021-02-02</td>\n",
       "      <td>Protests</td>\n",
       "      <td>Peaceful protest</td>\n",
       "      <td>Protesters (Myanmar)</td>\n",
       "      <td>NaN</td>\n",
       "      <td>60</td>\n",
       "      <td>Mandalay</td>\n",
       "      <td>0</td>\n",
       "    </tr>\n",
       "    <tr>\n",
       "      <th>25456</th>\n",
       "      <td>2021-02-02</td>\n",
       "      <td>Protests</td>\n",
       "      <td>Peaceful protest</td>\n",
       "      <td>Protesters (Myanmar)</td>\n",
       "      <td>NaN</td>\n",
       "      <td>60</td>\n",
       "      <td>Sagaing</td>\n",
       "      <td>0</td>\n",
       "    </tr>\n",
       "    <tr>\n",
       "      <th>25457</th>\n",
       "      <td>2021-02-02</td>\n",
       "      <td>Protests</td>\n",
       "      <td>Peaceful protest</td>\n",
       "      <td>Protesters (Myanmar)</td>\n",
       "      <td>NaN</td>\n",
       "      <td>60</td>\n",
       "      <td>Yangon</td>\n",
       "      <td>0</td>\n",
       "    </tr>\n",
       "    <tr>\n",
       "      <th>25458</th>\n",
       "      <td>2021-02-02</td>\n",
       "      <td>Protests</td>\n",
       "      <td>Peaceful protest</td>\n",
       "      <td>Protesters (Myanmar)</td>\n",
       "      <td>NaN</td>\n",
       "      <td>60</td>\n",
       "      <td>Shan-South</td>\n",
       "      <td>0</td>\n",
       "    </tr>\n",
       "    <tr>\n",
       "      <th>25463</th>\n",
       "      <td>2021-02-01</td>\n",
       "      <td>Protests</td>\n",
       "      <td>Peaceful protest</td>\n",
       "      <td>Protesters (Myanmar)</td>\n",
       "      <td>NaN</td>\n",
       "      <td>60</td>\n",
       "      <td>Sagaing</td>\n",
       "      <td>0</td>\n",
       "    </tr>\n",
       "  </tbody>\n",
       "</table>\n",
       "<p>7248 rows × 8 columns</p>\n",
       "</div>"
      ],
      "text/plain": [
       "      event_date event_type    sub_event_type                actor1 actor2  \\\n",
       "9     2022-07-22   Protests  Peaceful protest  Protesters (Myanmar)    NaN   \n",
       "10    2022-07-22   Protests  Peaceful protest  Protesters (Myanmar)    NaN   \n",
       "11    2022-07-22   Protests  Peaceful protest  Protesters (Myanmar)    NaN   \n",
       "35    2022-07-21   Protests  Peaceful protest  Protesters (Myanmar)    NaN   \n",
       "36    2022-07-21   Protests  Peaceful protest  Protesters (Myanmar)    NaN   \n",
       "...          ...        ...               ...                   ...    ...   \n",
       "25455 2021-02-02   Protests  Peaceful protest  Protesters (Myanmar)    NaN   \n",
       "25456 2021-02-02   Protests  Peaceful protest  Protesters (Myanmar)    NaN   \n",
       "25457 2021-02-02   Protests  Peaceful protest  Protesters (Myanmar)    NaN   \n",
       "25458 2021-02-02   Protests  Peaceful protest  Protesters (Myanmar)    NaN   \n",
       "25463 2021-02-01   Protests  Peaceful protest  Protesters (Myanmar)    NaN   \n",
       "\n",
       "      interaction      admin1  fatalities  \n",
       "9              60     Sagaing           0  \n",
       "10             60     Sagaing           0  \n",
       "11             60     Sagaing           0  \n",
       "35             60     Sagaing           0  \n",
       "36             60     Sagaing           0  \n",
       "...           ...         ...         ...  \n",
       "25455          60    Mandalay           0  \n",
       "25456          60     Sagaing           0  \n",
       "25457          60      Yangon           0  \n",
       "25458          60  Shan-South           0  \n",
       "25463          60     Sagaing           0  \n",
       "\n",
       "[7248 rows x 8 columns]"
      ]
     },
     "execution_count": 32,
     "metadata": {},
     "output_type": "execute_result"
    }
   ],
   "source": [
    "df[df['event_type'] == 'Protests']"
   ]
  },
  {
   "cell_type": "code",
   "execution_count": 46,
   "id": "a0a325d5",
   "metadata": {},
   "outputs": [
    {
     "data": {
      "text/plain": [
       "event_type\n",
       "Battles                       14598\n",
       "Explosions/Remote violence     5265\n",
       "Protests                        378\n",
       "Riots                           251\n",
       "Strategic developments           39\n",
       "Violence against civilians     3080\n",
       "Name: fatalities, dtype: int64"
      ]
     },
     "execution_count": 46,
     "metadata": {},
     "output_type": "execute_result"
    }
   ],
   "source": [
    "df.groupby('event_type')['fatalities'].sum() # .size"
   ]
  },
  {
   "cell_type": "code",
   "execution_count": 53,
   "id": "bab9e294",
   "metadata": {},
   "outputs": [
    {
     "data": {
      "text/html": [
       "<div>\n",
       "<style scoped>\n",
       "    .dataframe tbody tr th:only-of-type {\n",
       "        vertical-align: middle;\n",
       "    }\n",
       "\n",
       "    .dataframe tbody tr th {\n",
       "        vertical-align: top;\n",
       "    }\n",
       "\n",
       "    .dataframe thead th {\n",
       "        text-align: right;\n",
       "    }\n",
       "</style>\n",
       "<table border=\"1\" class=\"dataframe\">\n",
       "  <thead>\n",
       "    <tr style=\"text-align: right;\">\n",
       "      <th></th>\n",
       "      <th>Total Events</th>\n",
       "      <th>Total Fatalities</th>\n",
       "    </tr>\n",
       "    <tr>\n",
       "      <th>event_type</th>\n",
       "      <th></th>\n",
       "      <th></th>\n",
       "    </tr>\n",
       "  </thead>\n",
       "  <tbody>\n",
       "    <tr>\n",
       "      <th>Battles</th>\n",
       "      <td>4485</td>\n",
       "      <td>14598</td>\n",
       "    </tr>\n",
       "    <tr>\n",
       "      <th>Explosions/Remote violence</th>\n",
       "      <td>4847</td>\n",
       "      <td>5265</td>\n",
       "    </tr>\n",
       "    <tr>\n",
       "      <th>Protests</th>\n",
       "      <td>7248</td>\n",
       "      <td>378</td>\n",
       "    </tr>\n",
       "    <tr>\n",
       "      <th>Riots</th>\n",
       "      <td>104</td>\n",
       "      <td>251</td>\n",
       "    </tr>\n",
       "    <tr>\n",
       "      <th>Strategic developments</th>\n",
       "      <td>5764</td>\n",
       "      <td>39</td>\n",
       "    </tr>\n",
       "    <tr>\n",
       "      <th>Violence against civilians</th>\n",
       "      <td>3017</td>\n",
       "      <td>3080</td>\n",
       "    </tr>\n",
       "  </tbody>\n",
       "</table>\n",
       "</div>"
      ],
      "text/plain": [
       "                            Total Events  Total Fatalities\n",
       "event_type                                                \n",
       "Battles                             4485             14598\n",
       "Explosions/Remote violence          4847              5265\n",
       "Protests                            7248               378\n",
       "Riots                                104               251\n",
       "Strategic developments              5764                39\n",
       "Violence against civilians          3017              3080"
      ]
     },
     "execution_count": 53,
     "metadata": {},
     "output_type": "execute_result"
    }
   ],
   "source": [
    "df.groupby('event_type')['fatalities'].agg(['size', 'sum'])\\\n",
    "    .rename(columns={'size': 'Total Events', 'sum': 'Total Fatalities'})\\\n",
    "#     .reset_index()\n"
   ]
  },
  {
   "cell_type": "code",
   "execution_count": null,
   "id": "723e4d94",
   "metadata": {},
   "outputs": [],
   "source": []
  },
  {
   "cell_type": "code",
   "execution_count": null,
   "id": "c3b9ca26",
   "metadata": {},
   "outputs": [],
   "source": []
  },
  {
   "cell_type": "code",
   "execution_count": null,
   "id": "28b85c6e",
   "metadata": {},
   "outputs": [],
   "source": []
  },
  {
   "cell_type": "code",
   "execution_count": 39,
   "id": "c1720c99",
   "metadata": {},
   "outputs": [],
   "source": [
    "# test = df[(df['event_type']=='Protests') | (df['event_type']=='Strategic developments') ] # subset "
   ]
  },
  {
   "cell_type": "code",
   "execution_count": 41,
   "id": "f0493ae0",
   "metadata": {},
   "outputs": [],
   "source": [
    "# test.to_csv('subset.csv', index=False)"
   ]
  },
  {
   "cell_type": "code",
   "execution_count": 42,
   "id": "262e25f6",
   "metadata": {},
   "outputs": [
    {
     "data": {
      "text/html": [
       "<div>\n",
       "<style scoped>\n",
       "    .dataframe tbody tr th:only-of-type {\n",
       "        vertical-align: middle;\n",
       "    }\n",
       "\n",
       "    .dataframe tbody tr th {\n",
       "        vertical-align: top;\n",
       "    }\n",
       "\n",
       "    .dataframe thead th {\n",
       "        text-align: right;\n",
       "    }\n",
       "</style>\n",
       "<table border=\"1\" class=\"dataframe\">\n",
       "  <thead>\n",
       "    <tr style=\"text-align: right;\">\n",
       "      <th></th>\n",
       "      <th>event_type</th>\n",
       "      <th>sub_event_type</th>\n",
       "      <th>actor1</th>\n",
       "      <th>actor2</th>\n",
       "      <th>interaction</th>\n",
       "      <th>admin1</th>\n",
       "      <th>fatalities</th>\n",
       "    </tr>\n",
       "    <tr>\n",
       "      <th>event_date</th>\n",
       "      <th></th>\n",
       "      <th></th>\n",
       "      <th></th>\n",
       "      <th></th>\n",
       "      <th></th>\n",
       "      <th></th>\n",
       "      <th></th>\n",
       "    </tr>\n",
       "  </thead>\n",
       "  <tbody>\n",
       "    <tr>\n",
       "      <th>2022-07-22</th>\n",
       "      <td>Battles</td>\n",
       "      <td>Armed clash</td>\n",
       "      <td>PDF Hpruso</td>\n",
       "      <td>Military Forces of Myanmar (2021-)</td>\n",
       "      <td>13</td>\n",
       "      <td>Kayah</td>\n",
       "      <td>4</td>\n",
       "    </tr>\n",
       "    <tr>\n",
       "      <th>2022-07-22</th>\n",
       "      <td>Explosions/Remote violence</td>\n",
       "      <td>Remote explosive/landmine/IED</td>\n",
       "      <td>GZP-Mandalay: Generation Z Power (Mandalay)</td>\n",
       "      <td>Military Forces of Myanmar (2021-)</td>\n",
       "      <td>13</td>\n",
       "      <td>Mandalay</td>\n",
       "      <td>0</td>\n",
       "    </tr>\n",
       "    <tr>\n",
       "      <th>2022-07-22</th>\n",
       "      <td>Explosions/Remote violence</td>\n",
       "      <td>Grenade</td>\n",
       "      <td>Toxic Boys</td>\n",
       "      <td>NaN</td>\n",
       "      <td>30</td>\n",
       "      <td>Yangon</td>\n",
       "      <td>0</td>\n",
       "    </tr>\n",
       "    <tr>\n",
       "      <th>2022-07-22</th>\n",
       "      <td>Battles</td>\n",
       "      <td>Armed clash</td>\n",
       "      <td>Zero Guerrilla Force</td>\n",
       "      <td>Military Forces of Myanmar (2021-)</td>\n",
       "      <td>13</td>\n",
       "      <td>Sagaing</td>\n",
       "      <td>10</td>\n",
       "    </tr>\n",
       "    <tr>\n",
       "      <th>2022-07-22</th>\n",
       "      <td>Battles</td>\n",
       "      <td>Armed clash</td>\n",
       "      <td>Unidentified Armed Group (Myanmar)</td>\n",
       "      <td>Military Forces of Myanmar (2021-) Border Guar...</td>\n",
       "      <td>13</td>\n",
       "      <td>Kayin</td>\n",
       "      <td>1</td>\n",
       "    </tr>\n",
       "  </tbody>\n",
       "</table>\n",
       "</div>"
      ],
      "text/plain": [
       "                            event_type                 sub_event_type  \\\n",
       "event_date                                                              \n",
       "2022-07-22                     Battles                    Armed clash   \n",
       "2022-07-22  Explosions/Remote violence  Remote explosive/landmine/IED   \n",
       "2022-07-22  Explosions/Remote violence                        Grenade   \n",
       "2022-07-22                     Battles                    Armed clash   \n",
       "2022-07-22                     Battles                    Armed clash   \n",
       "\n",
       "                                                 actor1  \\\n",
       "event_date                                                \n",
       "2022-07-22                                   PDF Hpruso   \n",
       "2022-07-22  GZP-Mandalay: Generation Z Power (Mandalay)   \n",
       "2022-07-22                                   Toxic Boys   \n",
       "2022-07-22                         Zero Guerrilla Force   \n",
       "2022-07-22           Unidentified Armed Group (Myanmar)   \n",
       "\n",
       "                                                       actor2 interaction  \\\n",
       "event_date                                                                  \n",
       "2022-07-22                 Military Forces of Myanmar (2021-)          13   \n",
       "2022-07-22                 Military Forces of Myanmar (2021-)          13   \n",
       "2022-07-22                                                NaN          30   \n",
       "2022-07-22                 Military Forces of Myanmar (2021-)          13   \n",
       "2022-07-22  Military Forces of Myanmar (2021-) Border Guar...          13   \n",
       "\n",
       "              admin1  fatalities  \n",
       "event_date                        \n",
       "2022-07-22     Kayah           4  \n",
       "2022-07-22  Mandalay           0  \n",
       "2022-07-22    Yangon           0  \n",
       "2022-07-22   Sagaing          10  \n",
       "2022-07-22     Kayin           1  "
      ]
     },
     "execution_count": 42,
     "metadata": {},
     "output_type": "execute_result"
    }
   ],
   "source": [
    "time_df = df.set_index('event_date')\n",
    "time_df.head()"
   ]
  },
  {
   "cell_type": "code",
   "execution_count": 61,
   "id": "dbb6d0f6",
   "metadata": {},
   "outputs": [
    {
     "data": {
      "text/html": [
       "<div>\n",
       "<style scoped>\n",
       "    .dataframe tbody tr th:only-of-type {\n",
       "        vertical-align: middle;\n",
       "    }\n",
       "\n",
       "    .dataframe tbody tr th {\n",
       "        vertical-align: top;\n",
       "    }\n",
       "\n",
       "    .dataframe thead th {\n",
       "        text-align: right;\n",
       "    }\n",
       "</style>\n",
       "<table border=\"1\" class=\"dataframe\">\n",
       "  <thead>\n",
       "    <tr style=\"text-align: right;\">\n",
       "      <th></th>\n",
       "      <th>fatalities</th>\n",
       "    </tr>\n",
       "    <tr>\n",
       "      <th>event_date</th>\n",
       "      <th></th>\n",
       "    </tr>\n",
       "  </thead>\n",
       "  <tbody>\n",
       "    <tr>\n",
       "      <th>2021-12-31</th>\n",
       "      <td>10993</td>\n",
       "    </tr>\n",
       "    <tr>\n",
       "      <th>2022-12-31</th>\n",
       "      <td>12618</td>\n",
       "    </tr>\n",
       "  </tbody>\n",
       "</table>\n",
       "</div>"
      ],
      "text/plain": [
       "            fatalities\n",
       "event_date            \n",
       "2021-12-31       10993\n",
       "2022-12-31       12618"
      ]
     },
     "execution_count": 61,
     "metadata": {},
     "output_type": "execute_result"
    }
   ],
   "source": [
    "time_df.resample('Y')['fatalities'].sum().to_frame()"
   ]
  },
  {
   "cell_type": "code",
   "execution_count": 63,
   "id": "852d2d68",
   "metadata": {},
   "outputs": [
    {
     "data": {
      "text/html": [
       "<div>\n",
       "<style scoped>\n",
       "    .dataframe tbody tr th:only-of-type {\n",
       "        vertical-align: middle;\n",
       "    }\n",
       "\n",
       "    .dataframe tbody tr th {\n",
       "        vertical-align: top;\n",
       "    }\n",
       "\n",
       "    .dataframe thead th {\n",
       "        text-align: right;\n",
       "    }\n",
       "</style>\n",
       "<table border=\"1\" class=\"dataframe\">\n",
       "  <thead>\n",
       "    <tr style=\"text-align: right;\">\n",
       "      <th></th>\n",
       "      <th>event_type</th>\n",
       "      <th>admin1</th>\n",
       "      <th>sum</th>\n",
       "      <th>size</th>\n",
       "    </tr>\n",
       "  </thead>\n",
       "  <tbody>\n",
       "    <tr>\n",
       "      <th>0</th>\n",
       "      <td>Battles</td>\n",
       "      <td>Ayeyarwady</td>\n",
       "      <td>47</td>\n",
       "      <td>28</td>\n",
       "    </tr>\n",
       "    <tr>\n",
       "      <th>1</th>\n",
       "      <td>Battles</td>\n",
       "      <td>Bago-East</td>\n",
       "      <td>170</td>\n",
       "      <td>55</td>\n",
       "    </tr>\n",
       "    <tr>\n",
       "      <th>2</th>\n",
       "      <td>Battles</td>\n",
       "      <td>Bago-West</td>\n",
       "      <td>79</td>\n",
       "      <td>26</td>\n",
       "    </tr>\n",
       "    <tr>\n",
       "      <th>3</th>\n",
       "      <td>Battles</td>\n",
       "      <td>Chin</td>\n",
       "      <td>1447</td>\n",
       "      <td>330</td>\n",
       "    </tr>\n",
       "    <tr>\n",
       "      <th>4</th>\n",
       "      <td>Battles</td>\n",
       "      <td>Kachin</td>\n",
       "      <td>767</td>\n",
       "      <td>523</td>\n",
       "    </tr>\n",
       "    <tr>\n",
       "      <th>...</th>\n",
       "      <td>...</td>\n",
       "      <td>...</td>\n",
       "      <td>...</td>\n",
       "      <td>...</td>\n",
       "    </tr>\n",
       "    <tr>\n",
       "      <th>103</th>\n",
       "      <td>Violence against civilians</td>\n",
       "      <td>Shan-East</td>\n",
       "      <td>2</td>\n",
       "      <td>5</td>\n",
       "    </tr>\n",
       "    <tr>\n",
       "      <th>104</th>\n",
       "      <td>Violence against civilians</td>\n",
       "      <td>Shan-North</td>\n",
       "      <td>52</td>\n",
       "      <td>168</td>\n",
       "    </tr>\n",
       "    <tr>\n",
       "      <th>105</th>\n",
       "      <td>Violence against civilians</td>\n",
       "      <td>Shan-South</td>\n",
       "      <td>94</td>\n",
       "      <td>108</td>\n",
       "    </tr>\n",
       "    <tr>\n",
       "      <th>106</th>\n",
       "      <td>Violence against civilians</td>\n",
       "      <td>Tanintharyi</td>\n",
       "      <td>118</td>\n",
       "      <td>151</td>\n",
       "    </tr>\n",
       "    <tr>\n",
       "      <th>107</th>\n",
       "      <td>Violence against civilians</td>\n",
       "      <td>Yangon</td>\n",
       "      <td>258</td>\n",
       "      <td>377</td>\n",
       "    </tr>\n",
       "  </tbody>\n",
       "</table>\n",
       "<p>108 rows × 4 columns</p>\n",
       "</div>"
      ],
      "text/plain": [
       "                     event_type       admin1   sum  size\n",
       "0                       Battles   Ayeyarwady    47    28\n",
       "1                       Battles    Bago-East   170    55\n",
       "2                       Battles    Bago-West    79    26\n",
       "3                       Battles         Chin  1447   330\n",
       "4                       Battles       Kachin   767   523\n",
       "..                          ...          ...   ...   ...\n",
       "103  Violence against civilians    Shan-East     2     5\n",
       "104  Violence against civilians   Shan-North    52   168\n",
       "105  Violence against civilians   Shan-South    94   108\n",
       "106  Violence against civilians  Tanintharyi   118   151\n",
       "107  Violence against civilians       Yangon   258   377\n",
       "\n",
       "[108 rows x 4 columns]"
      ]
     },
     "execution_count": 63,
     "metadata": {},
     "output_type": "execute_result"
    }
   ],
   "source": [
    "time_df.groupby(['event_type', 'admin1'])['fatalities'].agg(['sum', 'size'])\\\n",
    "    .reset_index()"
   ]
  },
  {
   "cell_type": "code",
   "execution_count": 75,
   "id": "c91b63bb",
   "metadata": {},
   "outputs": [
    {
     "data": {
      "text/html": [
       "<div>\n",
       "<style scoped>\n",
       "    .dataframe tbody tr th:only-of-type {\n",
       "        vertical-align: middle;\n",
       "    }\n",
       "\n",
       "    .dataframe tbody tr th {\n",
       "        vertical-align: top;\n",
       "    }\n",
       "\n",
       "    .dataframe thead th {\n",
       "        text-align: right;\n",
       "    }\n",
       "</style>\n",
       "<table border=\"1\" class=\"dataframe\">\n",
       "  <thead>\n",
       "    <tr style=\"text-align: right;\">\n",
       "      <th></th>\n",
       "      <th>event_date</th>\n",
       "      <th>fatalities</th>\n",
       "    </tr>\n",
       "  </thead>\n",
       "  <tbody>\n",
       "    <tr>\n",
       "      <th>0</th>\n",
       "      <td>2021-02-07</td>\n",
       "      <td>15</td>\n",
       "    </tr>\n",
       "    <tr>\n",
       "      <th>1</th>\n",
       "      <td>2021-02-21</td>\n",
       "      <td>26</td>\n",
       "    </tr>\n",
       "    <tr>\n",
       "      <th>2</th>\n",
       "      <td>2021-03-07</td>\n",
       "      <td>71</td>\n",
       "    </tr>\n",
       "    <tr>\n",
       "      <th>3</th>\n",
       "      <td>2021-03-21</td>\n",
       "      <td>259</td>\n",
       "    </tr>\n",
       "    <tr>\n",
       "      <th>4</th>\n",
       "      <td>2021-04-04</td>\n",
       "      <td>461</td>\n",
       "    </tr>\n",
       "    <tr>\n",
       "      <th>5</th>\n",
       "      <td>2021-04-18</td>\n",
       "      <td>321</td>\n",
       "    </tr>\n",
       "    <tr>\n",
       "      <th>6</th>\n",
       "      <td>2021-05-02</td>\n",
       "      <td>109</td>\n",
       "    </tr>\n",
       "    <tr>\n",
       "      <th>7</th>\n",
       "      <td>2021-05-16</td>\n",
       "      <td>287</td>\n",
       "    </tr>\n",
       "    <tr>\n",
       "      <th>8</th>\n",
       "      <td>2021-05-30</td>\n",
       "      <td>337</td>\n",
       "    </tr>\n",
       "    <tr>\n",
       "      <th>9</th>\n",
       "      <td>2021-06-13</td>\n",
       "      <td>475</td>\n",
       "    </tr>\n",
       "    <tr>\n",
       "      <th>10</th>\n",
       "      <td>2021-06-27</td>\n",
       "      <td>292</td>\n",
       "    </tr>\n",
       "    <tr>\n",
       "      <th>11</th>\n",
       "      <td>2021-07-11</td>\n",
       "      <td>491</td>\n",
       "    </tr>\n",
       "    <tr>\n",
       "      <th>12</th>\n",
       "      <td>2021-07-25</td>\n",
       "      <td>265</td>\n",
       "    </tr>\n",
       "    <tr>\n",
       "      <th>13</th>\n",
       "      <td>2021-08-08</td>\n",
       "      <td>224</td>\n",
       "    </tr>\n",
       "    <tr>\n",
       "      <th>14</th>\n",
       "      <td>2021-08-22</td>\n",
       "      <td>337</td>\n",
       "    </tr>\n",
       "    <tr>\n",
       "      <th>15</th>\n",
       "      <td>2021-09-05</td>\n",
       "      <td>402</td>\n",
       "    </tr>\n",
       "    <tr>\n",
       "      <th>16</th>\n",
       "      <td>2021-09-19</td>\n",
       "      <td>547</td>\n",
       "    </tr>\n",
       "    <tr>\n",
       "      <th>17</th>\n",
       "      <td>2021-10-03</td>\n",
       "      <td>824</td>\n",
       "    </tr>\n",
       "    <tr>\n",
       "      <th>18</th>\n",
       "      <td>2021-10-17</td>\n",
       "      <td>700</td>\n",
       "    </tr>\n",
       "    <tr>\n",
       "      <th>19</th>\n",
       "      <td>2021-10-31</td>\n",
       "      <td>646</td>\n",
       "    </tr>\n",
       "    <tr>\n",
       "      <th>20</th>\n",
       "      <td>2021-11-14</td>\n",
       "      <td>962</td>\n",
       "    </tr>\n",
       "    <tr>\n",
       "      <th>21</th>\n",
       "      <td>2021-11-28</td>\n",
       "      <td>804</td>\n",
       "    </tr>\n",
       "    <tr>\n",
       "      <th>22</th>\n",
       "      <td>2021-12-12</td>\n",
       "      <td>893</td>\n",
       "    </tr>\n",
       "    <tr>\n",
       "      <th>23</th>\n",
       "      <td>2021-12-26</td>\n",
       "      <td>941</td>\n",
       "    </tr>\n",
       "    <tr>\n",
       "      <th>24</th>\n",
       "      <td>2022-01-09</td>\n",
       "      <td>842</td>\n",
       "    </tr>\n",
       "    <tr>\n",
       "      <th>25</th>\n",
       "      <td>2022-01-23</td>\n",
       "      <td>865</td>\n",
       "    </tr>\n",
       "    <tr>\n",
       "      <th>26</th>\n",
       "      <td>2022-02-06</td>\n",
       "      <td>793</td>\n",
       "    </tr>\n",
       "    <tr>\n",
       "      <th>27</th>\n",
       "      <td>2022-02-20</td>\n",
       "      <td>903</td>\n",
       "    </tr>\n",
       "    <tr>\n",
       "      <th>28</th>\n",
       "      <td>2022-03-06</td>\n",
       "      <td>901</td>\n",
       "    </tr>\n",
       "    <tr>\n",
       "      <th>29</th>\n",
       "      <td>2022-03-20</td>\n",
       "      <td>848</td>\n",
       "    </tr>\n",
       "    <tr>\n",
       "      <th>30</th>\n",
       "      <td>2022-04-03</td>\n",
       "      <td>802</td>\n",
       "    </tr>\n",
       "    <tr>\n",
       "      <th>31</th>\n",
       "      <td>2022-04-17</td>\n",
       "      <td>814</td>\n",
       "    </tr>\n",
       "    <tr>\n",
       "      <th>32</th>\n",
       "      <td>2022-05-01</td>\n",
       "      <td>950</td>\n",
       "    </tr>\n",
       "    <tr>\n",
       "      <th>33</th>\n",
       "      <td>2022-05-15</td>\n",
       "      <td>1037</td>\n",
       "    </tr>\n",
       "    <tr>\n",
       "      <th>34</th>\n",
       "      <td>2022-05-29</td>\n",
       "      <td>871</td>\n",
       "    </tr>\n",
       "    <tr>\n",
       "      <th>35</th>\n",
       "      <td>2022-06-12</td>\n",
       "      <td>977</td>\n",
       "    </tr>\n",
       "    <tr>\n",
       "      <th>36</th>\n",
       "      <td>2022-06-26</td>\n",
       "      <td>962</td>\n",
       "    </tr>\n",
       "    <tr>\n",
       "      <th>37</th>\n",
       "      <td>2022-07-10</td>\n",
       "      <td>759</td>\n",
       "    </tr>\n",
       "    <tr>\n",
       "      <th>38</th>\n",
       "      <td>2022-07-24</td>\n",
       "      <td>598</td>\n",
       "    </tr>\n",
       "  </tbody>\n",
       "</table>\n",
       "</div>"
      ],
      "text/plain": [
       "   event_date  fatalities\n",
       "0  2021-02-07          15\n",
       "1  2021-02-21          26\n",
       "2  2021-03-07          71\n",
       "3  2021-03-21         259\n",
       "4  2021-04-04         461\n",
       "5  2021-04-18         321\n",
       "6  2021-05-02         109\n",
       "7  2021-05-16         287\n",
       "8  2021-05-30         337\n",
       "9  2021-06-13         475\n",
       "10 2021-06-27         292\n",
       "11 2021-07-11         491\n",
       "12 2021-07-25         265\n",
       "13 2021-08-08         224\n",
       "14 2021-08-22         337\n",
       "15 2021-09-05         402\n",
       "16 2021-09-19         547\n",
       "17 2021-10-03         824\n",
       "18 2021-10-17         700\n",
       "19 2021-10-31         646\n",
       "20 2021-11-14         962\n",
       "21 2021-11-28         804\n",
       "22 2021-12-12         893\n",
       "23 2021-12-26         941\n",
       "24 2022-01-09         842\n",
       "25 2022-01-23         865\n",
       "26 2022-02-06         793\n",
       "27 2022-02-20         903\n",
       "28 2022-03-06         901\n",
       "29 2022-03-20         848\n",
       "30 2022-04-03         802\n",
       "31 2022-04-17         814\n",
       "32 2022-05-01         950\n",
       "33 2022-05-15        1037\n",
       "34 2022-05-29         871\n",
       "35 2022-06-12         977\n",
       "36 2022-06-26         962\n",
       "37 2022-07-10         759\n",
       "38 2022-07-24         598"
      ]
     },
     "execution_count": 75,
     "metadata": {},
     "output_type": "execute_result"
    }
   ],
   "source": [
    "test = time_df.resample('2W')['fatalities'].sum().to_frame().reset_index()\n",
    "test"
   ]
  },
  {
   "cell_type": "code",
   "execution_count": 76,
   "id": "0cf11e54",
   "metadata": {},
   "outputs": [],
   "source": [
    "import plotly.express as px"
   ]
  },
  {
   "cell_type": "code",
   "execution_count": 77,
   "id": "7ed04b29",
   "metadata": {},
   "outputs": [
    {
     "data": {
      "application/vnd.plotly.v1+json": {
       "config": {
        "plotlyServerURL": "https://plot.ly"
       },
       "data": [
        {
         "hovertemplate": "event_date=%{x}<br>fatalities=%{y}<extra></extra>",
         "legendgroup": "",
         "line": {
          "color": "#636efa",
          "dash": "solid"
         },
         "marker": {
          "symbol": "circle"
         },
         "mode": "lines",
         "name": "",
         "orientation": "v",
         "showlegend": false,
         "type": "scatter",
         "x": [
          "2021-02-07T00:00:00",
          "2021-02-21T00:00:00",
          "2021-03-07T00:00:00",
          "2021-03-21T00:00:00",
          "2021-04-04T00:00:00",
          "2021-04-18T00:00:00",
          "2021-05-02T00:00:00",
          "2021-05-16T00:00:00",
          "2021-05-30T00:00:00",
          "2021-06-13T00:00:00",
          "2021-06-27T00:00:00",
          "2021-07-11T00:00:00",
          "2021-07-25T00:00:00",
          "2021-08-08T00:00:00",
          "2021-08-22T00:00:00",
          "2021-09-05T00:00:00",
          "2021-09-19T00:00:00",
          "2021-10-03T00:00:00",
          "2021-10-17T00:00:00",
          "2021-10-31T00:00:00",
          "2021-11-14T00:00:00",
          "2021-11-28T00:00:00",
          "2021-12-12T00:00:00",
          "2021-12-26T00:00:00",
          "2022-01-09T00:00:00",
          "2022-01-23T00:00:00",
          "2022-02-06T00:00:00",
          "2022-02-20T00:00:00",
          "2022-03-06T00:00:00",
          "2022-03-20T00:00:00",
          "2022-04-03T00:00:00",
          "2022-04-17T00:00:00",
          "2022-05-01T00:00:00",
          "2022-05-15T00:00:00",
          "2022-05-29T00:00:00",
          "2022-06-12T00:00:00",
          "2022-06-26T00:00:00",
          "2022-07-10T00:00:00",
          "2022-07-24T00:00:00"
         ],
         "xaxis": "x",
         "y": [
          15,
          26,
          71,
          259,
          461,
          321,
          109,
          287,
          337,
          475,
          292,
          491,
          265,
          224,
          337,
          402,
          547,
          824,
          700,
          646,
          962,
          804,
          893,
          941,
          842,
          865,
          793,
          903,
          901,
          848,
          802,
          814,
          950,
          1037,
          871,
          977,
          962,
          759,
          598
         ],
         "yaxis": "y"
        }
       ],
       "layout": {
        "legend": {
         "tracegroupgap": 0
        },
        "margin": {
         "t": 60
        },
        "template": {
         "data": {
          "bar": [
           {
            "error_x": {
             "color": "#2a3f5f"
            },
            "error_y": {
             "color": "#2a3f5f"
            },
            "marker": {
             "line": {
              "color": "#E5ECF6",
              "width": 0.5
             },
             "pattern": {
              "fillmode": "overlay",
              "size": 10,
              "solidity": 0.2
             }
            },
            "type": "bar"
           }
          ],
          "barpolar": [
           {
            "marker": {
             "line": {
              "color": "#E5ECF6",
              "width": 0.5
             },
             "pattern": {
              "fillmode": "overlay",
              "size": 10,
              "solidity": 0.2
             }
            },
            "type": "barpolar"
           }
          ],
          "carpet": [
           {
            "aaxis": {
             "endlinecolor": "#2a3f5f",
             "gridcolor": "white",
             "linecolor": "white",
             "minorgridcolor": "white",
             "startlinecolor": "#2a3f5f"
            },
            "baxis": {
             "endlinecolor": "#2a3f5f",
             "gridcolor": "white",
             "linecolor": "white",
             "minorgridcolor": "white",
             "startlinecolor": "#2a3f5f"
            },
            "type": "carpet"
           }
          ],
          "choropleth": [
           {
            "colorbar": {
             "outlinewidth": 0,
             "ticks": ""
            },
            "type": "choropleth"
           }
          ],
          "contour": [
           {
            "colorbar": {
             "outlinewidth": 0,
             "ticks": ""
            },
            "colorscale": [
             [
              0,
              "#0d0887"
             ],
             [
              0.1111111111111111,
              "#46039f"
             ],
             [
              0.2222222222222222,
              "#7201a8"
             ],
             [
              0.3333333333333333,
              "#9c179e"
             ],
             [
              0.4444444444444444,
              "#bd3786"
             ],
             [
              0.5555555555555556,
              "#d8576b"
             ],
             [
              0.6666666666666666,
              "#ed7953"
             ],
             [
              0.7777777777777778,
              "#fb9f3a"
             ],
             [
              0.8888888888888888,
              "#fdca26"
             ],
             [
              1,
              "#f0f921"
             ]
            ],
            "type": "contour"
           }
          ],
          "contourcarpet": [
           {
            "colorbar": {
             "outlinewidth": 0,
             "ticks": ""
            },
            "type": "contourcarpet"
           }
          ],
          "heatmap": [
           {
            "colorbar": {
             "outlinewidth": 0,
             "ticks": ""
            },
            "colorscale": [
             [
              0,
              "#0d0887"
             ],
             [
              0.1111111111111111,
              "#46039f"
             ],
             [
              0.2222222222222222,
              "#7201a8"
             ],
             [
              0.3333333333333333,
              "#9c179e"
             ],
             [
              0.4444444444444444,
              "#bd3786"
             ],
             [
              0.5555555555555556,
              "#d8576b"
             ],
             [
              0.6666666666666666,
              "#ed7953"
             ],
             [
              0.7777777777777778,
              "#fb9f3a"
             ],
             [
              0.8888888888888888,
              "#fdca26"
             ],
             [
              1,
              "#f0f921"
             ]
            ],
            "type": "heatmap"
           }
          ],
          "heatmapgl": [
           {
            "colorbar": {
             "outlinewidth": 0,
             "ticks": ""
            },
            "colorscale": [
             [
              0,
              "#0d0887"
             ],
             [
              0.1111111111111111,
              "#46039f"
             ],
             [
              0.2222222222222222,
              "#7201a8"
             ],
             [
              0.3333333333333333,
              "#9c179e"
             ],
             [
              0.4444444444444444,
              "#bd3786"
             ],
             [
              0.5555555555555556,
              "#d8576b"
             ],
             [
              0.6666666666666666,
              "#ed7953"
             ],
             [
              0.7777777777777778,
              "#fb9f3a"
             ],
             [
              0.8888888888888888,
              "#fdca26"
             ],
             [
              1,
              "#f0f921"
             ]
            ],
            "type": "heatmapgl"
           }
          ],
          "histogram": [
           {
            "marker": {
             "pattern": {
              "fillmode": "overlay",
              "size": 10,
              "solidity": 0.2
             }
            },
            "type": "histogram"
           }
          ],
          "histogram2d": [
           {
            "colorbar": {
             "outlinewidth": 0,
             "ticks": ""
            },
            "colorscale": [
             [
              0,
              "#0d0887"
             ],
             [
              0.1111111111111111,
              "#46039f"
             ],
             [
              0.2222222222222222,
              "#7201a8"
             ],
             [
              0.3333333333333333,
              "#9c179e"
             ],
             [
              0.4444444444444444,
              "#bd3786"
             ],
             [
              0.5555555555555556,
              "#d8576b"
             ],
             [
              0.6666666666666666,
              "#ed7953"
             ],
             [
              0.7777777777777778,
              "#fb9f3a"
             ],
             [
              0.8888888888888888,
              "#fdca26"
             ],
             [
              1,
              "#f0f921"
             ]
            ],
            "type": "histogram2d"
           }
          ],
          "histogram2dcontour": [
           {
            "colorbar": {
             "outlinewidth": 0,
             "ticks": ""
            },
            "colorscale": [
             [
              0,
              "#0d0887"
             ],
             [
              0.1111111111111111,
              "#46039f"
             ],
             [
              0.2222222222222222,
              "#7201a8"
             ],
             [
              0.3333333333333333,
              "#9c179e"
             ],
             [
              0.4444444444444444,
              "#bd3786"
             ],
             [
              0.5555555555555556,
              "#d8576b"
             ],
             [
              0.6666666666666666,
              "#ed7953"
             ],
             [
              0.7777777777777778,
              "#fb9f3a"
             ],
             [
              0.8888888888888888,
              "#fdca26"
             ],
             [
              1,
              "#f0f921"
             ]
            ],
            "type": "histogram2dcontour"
           }
          ],
          "mesh3d": [
           {
            "colorbar": {
             "outlinewidth": 0,
             "ticks": ""
            },
            "type": "mesh3d"
           }
          ],
          "parcoords": [
           {
            "line": {
             "colorbar": {
              "outlinewidth": 0,
              "ticks": ""
             }
            },
            "type": "parcoords"
           }
          ],
          "pie": [
           {
            "automargin": true,
            "type": "pie"
           }
          ],
          "scatter": [
           {
            "fillpattern": {
             "fillmode": "overlay",
             "size": 10,
             "solidity": 0.2
            },
            "type": "scatter"
           }
          ],
          "scatter3d": [
           {
            "line": {
             "colorbar": {
              "outlinewidth": 0,
              "ticks": ""
             }
            },
            "marker": {
             "colorbar": {
              "outlinewidth": 0,
              "ticks": ""
             }
            },
            "type": "scatter3d"
           }
          ],
          "scattercarpet": [
           {
            "marker": {
             "colorbar": {
              "outlinewidth": 0,
              "ticks": ""
             }
            },
            "type": "scattercarpet"
           }
          ],
          "scattergeo": [
           {
            "marker": {
             "colorbar": {
              "outlinewidth": 0,
              "ticks": ""
             }
            },
            "type": "scattergeo"
           }
          ],
          "scattergl": [
           {
            "marker": {
             "colorbar": {
              "outlinewidth": 0,
              "ticks": ""
             }
            },
            "type": "scattergl"
           }
          ],
          "scattermapbox": [
           {
            "marker": {
             "colorbar": {
              "outlinewidth": 0,
              "ticks": ""
             }
            },
            "type": "scattermapbox"
           }
          ],
          "scatterpolar": [
           {
            "marker": {
             "colorbar": {
              "outlinewidth": 0,
              "ticks": ""
             }
            },
            "type": "scatterpolar"
           }
          ],
          "scatterpolargl": [
           {
            "marker": {
             "colorbar": {
              "outlinewidth": 0,
              "ticks": ""
             }
            },
            "type": "scatterpolargl"
           }
          ],
          "scatterternary": [
           {
            "marker": {
             "colorbar": {
              "outlinewidth": 0,
              "ticks": ""
             }
            },
            "type": "scatterternary"
           }
          ],
          "surface": [
           {
            "colorbar": {
             "outlinewidth": 0,
             "ticks": ""
            },
            "colorscale": [
             [
              0,
              "#0d0887"
             ],
             [
              0.1111111111111111,
              "#46039f"
             ],
             [
              0.2222222222222222,
              "#7201a8"
             ],
             [
              0.3333333333333333,
              "#9c179e"
             ],
             [
              0.4444444444444444,
              "#bd3786"
             ],
             [
              0.5555555555555556,
              "#d8576b"
             ],
             [
              0.6666666666666666,
              "#ed7953"
             ],
             [
              0.7777777777777778,
              "#fb9f3a"
             ],
             [
              0.8888888888888888,
              "#fdca26"
             ],
             [
              1,
              "#f0f921"
             ]
            ],
            "type": "surface"
           }
          ],
          "table": [
           {
            "cells": {
             "fill": {
              "color": "#EBF0F8"
             },
             "line": {
              "color": "white"
             }
            },
            "header": {
             "fill": {
              "color": "#C8D4E3"
             },
             "line": {
              "color": "white"
             }
            },
            "type": "table"
           }
          ]
         },
         "layout": {
          "annotationdefaults": {
           "arrowcolor": "#2a3f5f",
           "arrowhead": 0,
           "arrowwidth": 1
          },
          "autotypenumbers": "strict",
          "coloraxis": {
           "colorbar": {
            "outlinewidth": 0,
            "ticks": ""
           }
          },
          "colorscale": {
           "diverging": [
            [
             0,
             "#8e0152"
            ],
            [
             0.1,
             "#c51b7d"
            ],
            [
             0.2,
             "#de77ae"
            ],
            [
             0.3,
             "#f1b6da"
            ],
            [
             0.4,
             "#fde0ef"
            ],
            [
             0.5,
             "#f7f7f7"
            ],
            [
             0.6,
             "#e6f5d0"
            ],
            [
             0.7,
             "#b8e186"
            ],
            [
             0.8,
             "#7fbc41"
            ],
            [
             0.9,
             "#4d9221"
            ],
            [
             1,
             "#276419"
            ]
           ],
           "sequential": [
            [
             0,
             "#0d0887"
            ],
            [
             0.1111111111111111,
             "#46039f"
            ],
            [
             0.2222222222222222,
             "#7201a8"
            ],
            [
             0.3333333333333333,
             "#9c179e"
            ],
            [
             0.4444444444444444,
             "#bd3786"
            ],
            [
             0.5555555555555556,
             "#d8576b"
            ],
            [
             0.6666666666666666,
             "#ed7953"
            ],
            [
             0.7777777777777778,
             "#fb9f3a"
            ],
            [
             0.8888888888888888,
             "#fdca26"
            ],
            [
             1,
             "#f0f921"
            ]
           ],
           "sequentialminus": [
            [
             0,
             "#0d0887"
            ],
            [
             0.1111111111111111,
             "#46039f"
            ],
            [
             0.2222222222222222,
             "#7201a8"
            ],
            [
             0.3333333333333333,
             "#9c179e"
            ],
            [
             0.4444444444444444,
             "#bd3786"
            ],
            [
             0.5555555555555556,
             "#d8576b"
            ],
            [
             0.6666666666666666,
             "#ed7953"
            ],
            [
             0.7777777777777778,
             "#fb9f3a"
            ],
            [
             0.8888888888888888,
             "#fdca26"
            ],
            [
             1,
             "#f0f921"
            ]
           ]
          },
          "colorway": [
           "#636efa",
           "#EF553B",
           "#00cc96",
           "#ab63fa",
           "#FFA15A",
           "#19d3f3",
           "#FF6692",
           "#B6E880",
           "#FF97FF",
           "#FECB52"
          ],
          "font": {
           "color": "#2a3f5f"
          },
          "geo": {
           "bgcolor": "white",
           "lakecolor": "white",
           "landcolor": "#E5ECF6",
           "showlakes": true,
           "showland": true,
           "subunitcolor": "white"
          },
          "hoverlabel": {
           "align": "left"
          },
          "hovermode": "closest",
          "mapbox": {
           "style": "light"
          },
          "paper_bgcolor": "white",
          "plot_bgcolor": "#E5ECF6",
          "polar": {
           "angularaxis": {
            "gridcolor": "white",
            "linecolor": "white",
            "ticks": ""
           },
           "bgcolor": "#E5ECF6",
           "radialaxis": {
            "gridcolor": "white",
            "linecolor": "white",
            "ticks": ""
           }
          },
          "scene": {
           "xaxis": {
            "backgroundcolor": "#E5ECF6",
            "gridcolor": "white",
            "gridwidth": 2,
            "linecolor": "white",
            "showbackground": true,
            "ticks": "",
            "zerolinecolor": "white"
           },
           "yaxis": {
            "backgroundcolor": "#E5ECF6",
            "gridcolor": "white",
            "gridwidth": 2,
            "linecolor": "white",
            "showbackground": true,
            "ticks": "",
            "zerolinecolor": "white"
           },
           "zaxis": {
            "backgroundcolor": "#E5ECF6",
            "gridcolor": "white",
            "gridwidth": 2,
            "linecolor": "white",
            "showbackground": true,
            "ticks": "",
            "zerolinecolor": "white"
           }
          },
          "shapedefaults": {
           "line": {
            "color": "#2a3f5f"
           }
          },
          "ternary": {
           "aaxis": {
            "gridcolor": "white",
            "linecolor": "white",
            "ticks": ""
           },
           "baxis": {
            "gridcolor": "white",
            "linecolor": "white",
            "ticks": ""
           },
           "bgcolor": "#E5ECF6",
           "caxis": {
            "gridcolor": "white",
            "linecolor": "white",
            "ticks": ""
           }
          },
          "title": {
           "x": 0.05
          },
          "xaxis": {
           "automargin": true,
           "gridcolor": "white",
           "linecolor": "white",
           "ticks": "",
           "title": {
            "standoff": 15
           },
           "zerolinecolor": "white",
           "zerolinewidth": 2
          },
          "yaxis": {
           "automargin": true,
           "gridcolor": "white",
           "linecolor": "white",
           "ticks": "",
           "title": {
            "standoff": 15
           },
           "zerolinecolor": "white",
           "zerolinewidth": 2
          }
         }
        },
        "xaxis": {
         "anchor": "y",
         "domain": [
          0,
          1
         ],
         "title": {
          "text": "event_date"
         }
        },
        "yaxis": {
         "anchor": "x",
         "domain": [
          0,
          1
         ],
         "title": {
          "text": "fatalities"
         }
        }
       }
      },
      "text/html": [
       "<div>                            <div id=\"e4152406-aa58-4891-b051-3aecd0f2fe8c\" class=\"plotly-graph-div\" style=\"height:525px; width:100%;\"></div>            <script type=\"text/javascript\">                require([\"plotly\"], function(Plotly) {                    window.PLOTLYENV=window.PLOTLYENV || {};                                    if (document.getElementById(\"e4152406-aa58-4891-b051-3aecd0f2fe8c\")) {                    Plotly.newPlot(                        \"e4152406-aa58-4891-b051-3aecd0f2fe8c\",                        [{\"hovertemplate\":\"event_date=%{x}<br>fatalities=%{y}<extra></extra>\",\"legendgroup\":\"\",\"line\":{\"color\":\"#636efa\",\"dash\":\"solid\"},\"marker\":{\"symbol\":\"circle\"},\"mode\":\"lines\",\"name\":\"\",\"orientation\":\"v\",\"showlegend\":false,\"x\":[\"2021-02-07T00:00:00\",\"2021-02-21T00:00:00\",\"2021-03-07T00:00:00\",\"2021-03-21T00:00:00\",\"2021-04-04T00:00:00\",\"2021-04-18T00:00:00\",\"2021-05-02T00:00:00\",\"2021-05-16T00:00:00\",\"2021-05-30T00:00:00\",\"2021-06-13T00:00:00\",\"2021-06-27T00:00:00\",\"2021-07-11T00:00:00\",\"2021-07-25T00:00:00\",\"2021-08-08T00:00:00\",\"2021-08-22T00:00:00\",\"2021-09-05T00:00:00\",\"2021-09-19T00:00:00\",\"2021-10-03T00:00:00\",\"2021-10-17T00:00:00\",\"2021-10-31T00:00:00\",\"2021-11-14T00:00:00\",\"2021-11-28T00:00:00\",\"2021-12-12T00:00:00\",\"2021-12-26T00:00:00\",\"2022-01-09T00:00:00\",\"2022-01-23T00:00:00\",\"2022-02-06T00:00:00\",\"2022-02-20T00:00:00\",\"2022-03-06T00:00:00\",\"2022-03-20T00:00:00\",\"2022-04-03T00:00:00\",\"2022-04-17T00:00:00\",\"2022-05-01T00:00:00\",\"2022-05-15T00:00:00\",\"2022-05-29T00:00:00\",\"2022-06-12T00:00:00\",\"2022-06-26T00:00:00\",\"2022-07-10T00:00:00\",\"2022-07-24T00:00:00\"],\"xaxis\":\"x\",\"y\":[15,26,71,259,461,321,109,287,337,475,292,491,265,224,337,402,547,824,700,646,962,804,893,941,842,865,793,903,901,848,802,814,950,1037,871,977,962,759,598],\"yaxis\":\"y\",\"type\":\"scatter\"}],                        {\"template\":{\"data\":{\"histogram2dcontour\":[{\"type\":\"histogram2dcontour\",\"colorbar\":{\"outlinewidth\":0,\"ticks\":\"\"},\"colorscale\":[[0.0,\"#0d0887\"],[0.1111111111111111,\"#46039f\"],[0.2222222222222222,\"#7201a8\"],[0.3333333333333333,\"#9c179e\"],[0.4444444444444444,\"#bd3786\"],[0.5555555555555556,\"#d8576b\"],[0.6666666666666666,\"#ed7953\"],[0.7777777777777778,\"#fb9f3a\"],[0.8888888888888888,\"#fdca26\"],[1.0,\"#f0f921\"]]}],\"choropleth\":[{\"type\":\"choropleth\",\"colorbar\":{\"outlinewidth\":0,\"ticks\":\"\"}}],\"histogram2d\":[{\"type\":\"histogram2d\",\"colorbar\":{\"outlinewidth\":0,\"ticks\":\"\"},\"colorscale\":[[0.0,\"#0d0887\"],[0.1111111111111111,\"#46039f\"],[0.2222222222222222,\"#7201a8\"],[0.3333333333333333,\"#9c179e\"],[0.4444444444444444,\"#bd3786\"],[0.5555555555555556,\"#d8576b\"],[0.6666666666666666,\"#ed7953\"],[0.7777777777777778,\"#fb9f3a\"],[0.8888888888888888,\"#fdca26\"],[1.0,\"#f0f921\"]]}],\"heatmap\":[{\"type\":\"heatmap\",\"colorbar\":{\"outlinewidth\":0,\"ticks\":\"\"},\"colorscale\":[[0.0,\"#0d0887\"],[0.1111111111111111,\"#46039f\"],[0.2222222222222222,\"#7201a8\"],[0.3333333333333333,\"#9c179e\"],[0.4444444444444444,\"#bd3786\"],[0.5555555555555556,\"#d8576b\"],[0.6666666666666666,\"#ed7953\"],[0.7777777777777778,\"#fb9f3a\"],[0.8888888888888888,\"#fdca26\"],[1.0,\"#f0f921\"]]}],\"heatmapgl\":[{\"type\":\"heatmapgl\",\"colorbar\":{\"outlinewidth\":0,\"ticks\":\"\"},\"colorscale\":[[0.0,\"#0d0887\"],[0.1111111111111111,\"#46039f\"],[0.2222222222222222,\"#7201a8\"],[0.3333333333333333,\"#9c179e\"],[0.4444444444444444,\"#bd3786\"],[0.5555555555555556,\"#d8576b\"],[0.6666666666666666,\"#ed7953\"],[0.7777777777777778,\"#fb9f3a\"],[0.8888888888888888,\"#fdca26\"],[1.0,\"#f0f921\"]]}],\"contourcarpet\":[{\"type\":\"contourcarpet\",\"colorbar\":{\"outlinewidth\":0,\"ticks\":\"\"}}],\"contour\":[{\"type\":\"contour\",\"colorbar\":{\"outlinewidth\":0,\"ticks\":\"\"},\"colorscale\":[[0.0,\"#0d0887\"],[0.1111111111111111,\"#46039f\"],[0.2222222222222222,\"#7201a8\"],[0.3333333333333333,\"#9c179e\"],[0.4444444444444444,\"#bd3786\"],[0.5555555555555556,\"#d8576b\"],[0.6666666666666666,\"#ed7953\"],[0.7777777777777778,\"#fb9f3a\"],[0.8888888888888888,\"#fdca26\"],[1.0,\"#f0f921\"]]}],\"surface\":[{\"type\":\"surface\",\"colorbar\":{\"outlinewidth\":0,\"ticks\":\"\"},\"colorscale\":[[0.0,\"#0d0887\"],[0.1111111111111111,\"#46039f\"],[0.2222222222222222,\"#7201a8\"],[0.3333333333333333,\"#9c179e\"],[0.4444444444444444,\"#bd3786\"],[0.5555555555555556,\"#d8576b\"],[0.6666666666666666,\"#ed7953\"],[0.7777777777777778,\"#fb9f3a\"],[0.8888888888888888,\"#fdca26\"],[1.0,\"#f0f921\"]]}],\"mesh3d\":[{\"type\":\"mesh3d\",\"colorbar\":{\"outlinewidth\":0,\"ticks\":\"\"}}],\"scatter\":[{\"fillpattern\":{\"fillmode\":\"overlay\",\"size\":10,\"solidity\":0.2},\"type\":\"scatter\"}],\"parcoords\":[{\"type\":\"parcoords\",\"line\":{\"colorbar\":{\"outlinewidth\":0,\"ticks\":\"\"}}}],\"scatterpolargl\":[{\"type\":\"scatterpolargl\",\"marker\":{\"colorbar\":{\"outlinewidth\":0,\"ticks\":\"\"}}}],\"bar\":[{\"error_x\":{\"color\":\"#2a3f5f\"},\"error_y\":{\"color\":\"#2a3f5f\"},\"marker\":{\"line\":{\"color\":\"#E5ECF6\",\"width\":0.5},\"pattern\":{\"fillmode\":\"overlay\",\"size\":10,\"solidity\":0.2}},\"type\":\"bar\"}],\"scattergeo\":[{\"type\":\"scattergeo\",\"marker\":{\"colorbar\":{\"outlinewidth\":0,\"ticks\":\"\"}}}],\"scatterpolar\":[{\"type\":\"scatterpolar\",\"marker\":{\"colorbar\":{\"outlinewidth\":0,\"ticks\":\"\"}}}],\"histogram\":[{\"marker\":{\"pattern\":{\"fillmode\":\"overlay\",\"size\":10,\"solidity\":0.2}},\"type\":\"histogram\"}],\"scattergl\":[{\"type\":\"scattergl\",\"marker\":{\"colorbar\":{\"outlinewidth\":0,\"ticks\":\"\"}}}],\"scatter3d\":[{\"type\":\"scatter3d\",\"line\":{\"colorbar\":{\"outlinewidth\":0,\"ticks\":\"\"}},\"marker\":{\"colorbar\":{\"outlinewidth\":0,\"ticks\":\"\"}}}],\"scattermapbox\":[{\"type\":\"scattermapbox\",\"marker\":{\"colorbar\":{\"outlinewidth\":0,\"ticks\":\"\"}}}],\"scatterternary\":[{\"type\":\"scatterternary\",\"marker\":{\"colorbar\":{\"outlinewidth\":0,\"ticks\":\"\"}}}],\"scattercarpet\":[{\"type\":\"scattercarpet\",\"marker\":{\"colorbar\":{\"outlinewidth\":0,\"ticks\":\"\"}}}],\"carpet\":[{\"aaxis\":{\"endlinecolor\":\"#2a3f5f\",\"gridcolor\":\"white\",\"linecolor\":\"white\",\"minorgridcolor\":\"white\",\"startlinecolor\":\"#2a3f5f\"},\"baxis\":{\"endlinecolor\":\"#2a3f5f\",\"gridcolor\":\"white\",\"linecolor\":\"white\",\"minorgridcolor\":\"white\",\"startlinecolor\":\"#2a3f5f\"},\"type\":\"carpet\"}],\"table\":[{\"cells\":{\"fill\":{\"color\":\"#EBF0F8\"},\"line\":{\"color\":\"white\"}},\"header\":{\"fill\":{\"color\":\"#C8D4E3\"},\"line\":{\"color\":\"white\"}},\"type\":\"table\"}],\"barpolar\":[{\"marker\":{\"line\":{\"color\":\"#E5ECF6\",\"width\":0.5},\"pattern\":{\"fillmode\":\"overlay\",\"size\":10,\"solidity\":0.2}},\"type\":\"barpolar\"}],\"pie\":[{\"automargin\":true,\"type\":\"pie\"}]},\"layout\":{\"autotypenumbers\":\"strict\",\"colorway\":[\"#636efa\",\"#EF553B\",\"#00cc96\",\"#ab63fa\",\"#FFA15A\",\"#19d3f3\",\"#FF6692\",\"#B6E880\",\"#FF97FF\",\"#FECB52\"],\"font\":{\"color\":\"#2a3f5f\"},\"hovermode\":\"closest\",\"hoverlabel\":{\"align\":\"left\"},\"paper_bgcolor\":\"white\",\"plot_bgcolor\":\"#E5ECF6\",\"polar\":{\"bgcolor\":\"#E5ECF6\",\"angularaxis\":{\"gridcolor\":\"white\",\"linecolor\":\"white\",\"ticks\":\"\"},\"radialaxis\":{\"gridcolor\":\"white\",\"linecolor\":\"white\",\"ticks\":\"\"}},\"ternary\":{\"bgcolor\":\"#E5ECF6\",\"aaxis\":{\"gridcolor\":\"white\",\"linecolor\":\"white\",\"ticks\":\"\"},\"baxis\":{\"gridcolor\":\"white\",\"linecolor\":\"white\",\"ticks\":\"\"},\"caxis\":{\"gridcolor\":\"white\",\"linecolor\":\"white\",\"ticks\":\"\"}},\"coloraxis\":{\"colorbar\":{\"outlinewidth\":0,\"ticks\":\"\"}},\"colorscale\":{\"sequential\":[[0.0,\"#0d0887\"],[0.1111111111111111,\"#46039f\"],[0.2222222222222222,\"#7201a8\"],[0.3333333333333333,\"#9c179e\"],[0.4444444444444444,\"#bd3786\"],[0.5555555555555556,\"#d8576b\"],[0.6666666666666666,\"#ed7953\"],[0.7777777777777778,\"#fb9f3a\"],[0.8888888888888888,\"#fdca26\"],[1.0,\"#f0f921\"]],\"sequentialminus\":[[0.0,\"#0d0887\"],[0.1111111111111111,\"#46039f\"],[0.2222222222222222,\"#7201a8\"],[0.3333333333333333,\"#9c179e\"],[0.4444444444444444,\"#bd3786\"],[0.5555555555555556,\"#d8576b\"],[0.6666666666666666,\"#ed7953\"],[0.7777777777777778,\"#fb9f3a\"],[0.8888888888888888,\"#fdca26\"],[1.0,\"#f0f921\"]],\"diverging\":[[0,\"#8e0152\"],[0.1,\"#c51b7d\"],[0.2,\"#de77ae\"],[0.3,\"#f1b6da\"],[0.4,\"#fde0ef\"],[0.5,\"#f7f7f7\"],[0.6,\"#e6f5d0\"],[0.7,\"#b8e186\"],[0.8,\"#7fbc41\"],[0.9,\"#4d9221\"],[1,\"#276419\"]]},\"xaxis\":{\"gridcolor\":\"white\",\"linecolor\":\"white\",\"ticks\":\"\",\"title\":{\"standoff\":15},\"zerolinecolor\":\"white\",\"automargin\":true,\"zerolinewidth\":2},\"yaxis\":{\"gridcolor\":\"white\",\"linecolor\":\"white\",\"ticks\":\"\",\"title\":{\"standoff\":15},\"zerolinecolor\":\"white\",\"automargin\":true,\"zerolinewidth\":2},\"scene\":{\"xaxis\":{\"backgroundcolor\":\"#E5ECF6\",\"gridcolor\":\"white\",\"linecolor\":\"white\",\"showbackground\":true,\"ticks\":\"\",\"zerolinecolor\":\"white\",\"gridwidth\":2},\"yaxis\":{\"backgroundcolor\":\"#E5ECF6\",\"gridcolor\":\"white\",\"linecolor\":\"white\",\"showbackground\":true,\"ticks\":\"\",\"zerolinecolor\":\"white\",\"gridwidth\":2},\"zaxis\":{\"backgroundcolor\":\"#E5ECF6\",\"gridcolor\":\"white\",\"linecolor\":\"white\",\"showbackground\":true,\"ticks\":\"\",\"zerolinecolor\":\"white\",\"gridwidth\":2}},\"shapedefaults\":{\"line\":{\"color\":\"#2a3f5f\"}},\"annotationdefaults\":{\"arrowcolor\":\"#2a3f5f\",\"arrowhead\":0,\"arrowwidth\":1},\"geo\":{\"bgcolor\":\"white\",\"landcolor\":\"#E5ECF6\",\"subunitcolor\":\"white\",\"showland\":true,\"showlakes\":true,\"lakecolor\":\"white\"},\"title\":{\"x\":0.05},\"mapbox\":{\"style\":\"light\"}}},\"xaxis\":{\"anchor\":\"y\",\"domain\":[0.0,1.0],\"title\":{\"text\":\"event_date\"}},\"yaxis\":{\"anchor\":\"x\",\"domain\":[0.0,1.0],\"title\":{\"text\":\"fatalities\"}},\"legend\":{\"tracegroupgap\":0},\"margin\":{\"t\":60}},                        {\"responsive\": true}                    ).then(function(){\n",
       "                            \n",
       "var gd = document.getElementById('e4152406-aa58-4891-b051-3aecd0f2fe8c');\n",
       "var x = new MutationObserver(function (mutations, observer) {{\n",
       "        var display = window.getComputedStyle(gd).display;\n",
       "        if (!display || display === 'none') {{\n",
       "            console.log([gd, 'removed!']);\n",
       "            Plotly.purge(gd);\n",
       "            observer.disconnect();\n",
       "        }}\n",
       "}});\n",
       "\n",
       "// Listen for the removal of the full notebook cells\n",
       "var notebookContainer = gd.closest('#notebook-container');\n",
       "if (notebookContainer) {{\n",
       "    x.observe(notebookContainer, {childList: true});\n",
       "}}\n",
       "\n",
       "// Listen for the clearing of the current output cell\n",
       "var outputEl = gd.closest('.output');\n",
       "if (outputEl) {{\n",
       "    x.observe(outputEl, {childList: true});\n",
       "}}\n",
       "\n",
       "                        })                };                });            </script>        </div>"
      ]
     },
     "metadata": {},
     "output_type": "display_data"
    }
   ],
   "source": [
    "px.line(data_frame=test, x='event_date', y='fatalities')"
   ]
  },
  {
   "cell_type": "code",
   "execution_count": null,
   "id": "dd0810c7",
   "metadata": {},
   "outputs": [],
   "source": []
  }
 ],
 "metadata": {
  "kernelspec": {
   "display_name": "Python 3.10.4 64-bit",
   "language": "python",
   "name": "python3"
  },
  "language_info": {
   "codemirror_mode": {
    "name": "ipython",
    "version": 3
   },
   "file_extension": ".py",
   "mimetype": "text/x-python",
   "name": "python",
   "nbconvert_exporter": "python",
   "pygments_lexer": "ipython3",
   "version": "3.10.4"
  },
  "vscode": {
   "interpreter": {
    "hash": "916dbcbb3f70747c44a77c7bcd40155683ae19c65e1c03b4aa3499c5328201f1"
   }
  }
 },
 "nbformat": 4,
 "nbformat_minor": 5
}
